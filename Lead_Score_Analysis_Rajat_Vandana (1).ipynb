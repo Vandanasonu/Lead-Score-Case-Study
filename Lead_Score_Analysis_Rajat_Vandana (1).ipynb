{
 "cells": [
  {
   "cell_type": "code",
   "execution_count": 96,
   "metadata": {
    "ExecuteTime": {
     "end_time": "2022-10-17T08:11:06.973410Z",
     "start_time": "2022-10-17T08:11:06.961442Z"
    },
    "id": "Fn3FsZSLp23u"
   },
   "outputs": [],
   "source": [
    "# Supress Warnings\n",
    "import warnings\n",
    "warnings.filterwarnings('ignore')"
   ]
  },
  {
   "cell_type": "code",
   "execution_count": 97,
   "metadata": {
    "ExecuteTime": {
     "end_time": "2022-10-17T08:11:07.457003Z",
     "start_time": "2022-10-17T08:11:07.450035Z"
    },
    "id": "o4KTROXMqOnK"
   },
   "outputs": [],
   "source": [
    "# importing libraries\n",
    "import pandas as pd\n",
    "import numpy as np \n",
    "import seaborn as sns\n",
    "import matplotlib.pyplot as plt\n",
    "from sklearn.model_selection import train_test_split\n",
    "from sklearn.preprocessing import StandardScaler\n",
    "from sklearn.linear_model import LogisticRegression\n",
    "from sklearn.model_selection import train_test_split\n",
    "\n",
    "from sklearn.feature_selection import RFE\n",
    "from statsmodels.stats.outliers_influence import variance_inflation_factor\n",
    "import statsmodels.api as sm\n",
    "from sklearn import metrics\n",
    "from sklearn.metrics import precision_score, recall_score\n",
    "from sklearn.metrics import precision_recall_curve\n"
   ]
  },
  {
   "cell_type": "markdown",
   "metadata": {
    "id": "CN964mOZqYy-"
   },
   "source": [
    "### Step 1 : Reading and Understanding the given Data"
   ]
  },
  {
   "cell_type": "code",
   "execution_count": 98,
   "metadata": {
    "ExecuteTime": {
     "end_time": "2022-10-17T08:11:08.752760Z",
     "start_time": "2022-10-17T08:11:08.651027Z"
    },
    "colab": {
     "base_uri": "https://localhost:8080/",
     "height": 629
    },
    "id": "P83wc0QdqeSp",
    "outputId": "128101d0-9841-4b3f-98d8-9902384242cc"
   },
   "outputs": [
    {
     "data": {
      "text/html": [
       "<div>\n",
       "<style scoped>\n",
       "    .dataframe tbody tr th:only-of-type {\n",
       "        vertical-align: middle;\n",
       "    }\n",
       "\n",
       "    .dataframe tbody tr th {\n",
       "        vertical-align: top;\n",
       "    }\n",
       "\n",
       "    .dataframe thead th {\n",
       "        text-align: right;\n",
       "    }\n",
       "</style>\n",
       "<table border=\"1\" class=\"dataframe\">\n",
       "  <thead>\n",
       "    <tr style=\"text-align: right;\">\n",
       "      <th></th>\n",
       "      <th>Prospect ID</th>\n",
       "      <th>Lead Number</th>\n",
       "      <th>Lead Origin</th>\n",
       "      <th>Lead Source</th>\n",
       "      <th>Do Not Email</th>\n",
       "      <th>Do Not Call</th>\n",
       "      <th>Converted</th>\n",
       "      <th>TotalVisits</th>\n",
       "      <th>Total Time Spent on Website</th>\n",
       "      <th>Page Views Per Visit</th>\n",
       "      <th>...</th>\n",
       "      <th>Get updates on DM Content</th>\n",
       "      <th>Lead Profile</th>\n",
       "      <th>City</th>\n",
       "      <th>Asymmetrique Activity Index</th>\n",
       "      <th>Asymmetrique Profile Index</th>\n",
       "      <th>Asymmetrique Activity Score</th>\n",
       "      <th>Asymmetrique Profile Score</th>\n",
       "      <th>I agree to pay the amount through cheque</th>\n",
       "      <th>A free copy of Mastering The Interview</th>\n",
       "      <th>Last Notable Activity</th>\n",
       "    </tr>\n",
       "  </thead>\n",
       "  <tbody>\n",
       "    <tr>\n",
       "      <th>0</th>\n",
       "      <td>7927b2df-8bba-4d29-b9a2-b6e0beafe620</td>\n",
       "      <td>660737</td>\n",
       "      <td>API</td>\n",
       "      <td>Olark Chat</td>\n",
       "      <td>No</td>\n",
       "      <td>No</td>\n",
       "      <td>0</td>\n",
       "      <td>0.0</td>\n",
       "      <td>0</td>\n",
       "      <td>0.0</td>\n",
       "      <td>...</td>\n",
       "      <td>No</td>\n",
       "      <td>Select</td>\n",
       "      <td>Select</td>\n",
       "      <td>02.Medium</td>\n",
       "      <td>02.Medium</td>\n",
       "      <td>15.0</td>\n",
       "      <td>15.0</td>\n",
       "      <td>No</td>\n",
       "      <td>No</td>\n",
       "      <td>Modified</td>\n",
       "    </tr>\n",
       "    <tr>\n",
       "      <th>1</th>\n",
       "      <td>2a272436-5132-4136-86fa-dcc88c88f482</td>\n",
       "      <td>660728</td>\n",
       "      <td>API</td>\n",
       "      <td>Organic Search</td>\n",
       "      <td>No</td>\n",
       "      <td>No</td>\n",
       "      <td>0</td>\n",
       "      <td>5.0</td>\n",
       "      <td>674</td>\n",
       "      <td>2.5</td>\n",
       "      <td>...</td>\n",
       "      <td>No</td>\n",
       "      <td>Select</td>\n",
       "      <td>Select</td>\n",
       "      <td>02.Medium</td>\n",
       "      <td>02.Medium</td>\n",
       "      <td>15.0</td>\n",
       "      <td>15.0</td>\n",
       "      <td>No</td>\n",
       "      <td>No</td>\n",
       "      <td>Email Opened</td>\n",
       "    </tr>\n",
       "    <tr>\n",
       "      <th>2</th>\n",
       "      <td>8cc8c611-a219-4f35-ad23-fdfd2656bd8a</td>\n",
       "      <td>660727</td>\n",
       "      <td>Landing Page Submission</td>\n",
       "      <td>Direct Traffic</td>\n",
       "      <td>No</td>\n",
       "      <td>No</td>\n",
       "      <td>1</td>\n",
       "      <td>2.0</td>\n",
       "      <td>1532</td>\n",
       "      <td>2.0</td>\n",
       "      <td>...</td>\n",
       "      <td>No</td>\n",
       "      <td>Potential Lead</td>\n",
       "      <td>Mumbai</td>\n",
       "      <td>02.Medium</td>\n",
       "      <td>01.High</td>\n",
       "      <td>14.0</td>\n",
       "      <td>20.0</td>\n",
       "      <td>No</td>\n",
       "      <td>Yes</td>\n",
       "      <td>Email Opened</td>\n",
       "    </tr>\n",
       "    <tr>\n",
       "      <th>3</th>\n",
       "      <td>0cc2df48-7cf4-4e39-9de9-19797f9b38cc</td>\n",
       "      <td>660719</td>\n",
       "      <td>Landing Page Submission</td>\n",
       "      <td>Direct Traffic</td>\n",
       "      <td>No</td>\n",
       "      <td>No</td>\n",
       "      <td>0</td>\n",
       "      <td>1.0</td>\n",
       "      <td>305</td>\n",
       "      <td>1.0</td>\n",
       "      <td>...</td>\n",
       "      <td>No</td>\n",
       "      <td>Select</td>\n",
       "      <td>Mumbai</td>\n",
       "      <td>02.Medium</td>\n",
       "      <td>01.High</td>\n",
       "      <td>13.0</td>\n",
       "      <td>17.0</td>\n",
       "      <td>No</td>\n",
       "      <td>No</td>\n",
       "      <td>Modified</td>\n",
       "    </tr>\n",
       "    <tr>\n",
       "      <th>4</th>\n",
       "      <td>3256f628-e534-4826-9d63-4a8b88782852</td>\n",
       "      <td>660681</td>\n",
       "      <td>Landing Page Submission</td>\n",
       "      <td>Google</td>\n",
       "      <td>No</td>\n",
       "      <td>No</td>\n",
       "      <td>1</td>\n",
       "      <td>2.0</td>\n",
       "      <td>1428</td>\n",
       "      <td>1.0</td>\n",
       "      <td>...</td>\n",
       "      <td>No</td>\n",
       "      <td>Select</td>\n",
       "      <td>Mumbai</td>\n",
       "      <td>02.Medium</td>\n",
       "      <td>01.High</td>\n",
       "      <td>15.0</td>\n",
       "      <td>18.0</td>\n",
       "      <td>No</td>\n",
       "      <td>No</td>\n",
       "      <td>Modified</td>\n",
       "    </tr>\n",
       "  </tbody>\n",
       "</table>\n",
       "<p>5 rows × 37 columns</p>\n",
       "</div>"
      ],
      "text/plain": [
       "                            Prospect ID  Lead Number              Lead Origin  \\\n",
       "0  7927b2df-8bba-4d29-b9a2-b6e0beafe620       660737                      API   \n",
       "1  2a272436-5132-4136-86fa-dcc88c88f482       660728                      API   \n",
       "2  8cc8c611-a219-4f35-ad23-fdfd2656bd8a       660727  Landing Page Submission   \n",
       "3  0cc2df48-7cf4-4e39-9de9-19797f9b38cc       660719  Landing Page Submission   \n",
       "4  3256f628-e534-4826-9d63-4a8b88782852       660681  Landing Page Submission   \n",
       "\n",
       "      Lead Source Do Not Email Do Not Call  Converted  TotalVisits  \\\n",
       "0      Olark Chat           No          No          0          0.0   \n",
       "1  Organic Search           No          No          0          5.0   \n",
       "2  Direct Traffic           No          No          1          2.0   \n",
       "3  Direct Traffic           No          No          0          1.0   \n",
       "4          Google           No          No          1          2.0   \n",
       "\n",
       "   Total Time Spent on Website  Page Views Per Visit  ...  \\\n",
       "0                            0                   0.0  ...   \n",
       "1                          674                   2.5  ...   \n",
       "2                         1532                   2.0  ...   \n",
       "3                          305                   1.0  ...   \n",
       "4                         1428                   1.0  ...   \n",
       "\n",
       "  Get updates on DM Content    Lead Profile    City  \\\n",
       "0                        No          Select  Select   \n",
       "1                        No          Select  Select   \n",
       "2                        No  Potential Lead  Mumbai   \n",
       "3                        No          Select  Mumbai   \n",
       "4                        No          Select  Mumbai   \n",
       "\n",
       "  Asymmetrique Activity Index Asymmetrique Profile Index  \\\n",
       "0                   02.Medium                  02.Medium   \n",
       "1                   02.Medium                  02.Medium   \n",
       "2                   02.Medium                    01.High   \n",
       "3                   02.Medium                    01.High   \n",
       "4                   02.Medium                    01.High   \n",
       "\n",
       "  Asymmetrique Activity Score Asymmetrique Profile Score  \\\n",
       "0                        15.0                       15.0   \n",
       "1                        15.0                       15.0   \n",
       "2                        14.0                       20.0   \n",
       "3                        13.0                       17.0   \n",
       "4                        15.0                       18.0   \n",
       "\n",
       "  I agree to pay the amount through cheque  \\\n",
       "0                                       No   \n",
       "1                                       No   \n",
       "2                                       No   \n",
       "3                                       No   \n",
       "4                                       No   \n",
       "\n",
       "  A free copy of Mastering The Interview Last Notable Activity  \n",
       "0                                     No              Modified  \n",
       "1                                     No          Email Opened  \n",
       "2                                    Yes          Email Opened  \n",
       "3                                     No              Modified  \n",
       "4                                     No              Modified  \n",
       "\n",
       "[5 rows x 37 columns]"
      ]
     },
     "execution_count": 98,
     "metadata": {},
     "output_type": "execute_result"
    }
   ],
   "source": [
    "dflead=pd.read_csv('Leads.csv') \n",
    "dflead.head()"
   ]
  },
  {
   "cell_type": "code",
   "execution_count": 99,
   "metadata": {
    "ExecuteTime": {
     "end_time": "2022-10-17T08:11:09.253598Z",
     "start_time": "2022-10-17T08:11:09.216698Z"
    },
    "colab": {
     "base_uri": "https://localhost:8080/"
    },
    "id": "i8SyrRTvqqVQ",
    "outputId": "72720145-295b-4eaf-a358-842fd509fc1f"
   },
   "outputs": [
    {
     "name": "stdout",
     "output_type": "stream",
     "text": [
      "<class 'pandas.core.frame.DataFrame'>\n",
      "RangeIndex: 9240 entries, 0 to 9239\n",
      "Data columns (total 37 columns):\n",
      " #   Column                                         Non-Null Count  Dtype  \n",
      "---  ------                                         --------------  -----  \n",
      " 0   Prospect ID                                    9240 non-null   object \n",
      " 1   Lead Number                                    9240 non-null   int64  \n",
      " 2   Lead Origin                                    9240 non-null   object \n",
      " 3   Lead Source                                    9204 non-null   object \n",
      " 4   Do Not Email                                   9240 non-null   object \n",
      " 5   Do Not Call                                    9240 non-null   object \n",
      " 6   Converted                                      9240 non-null   int64  \n",
      " 7   TotalVisits                                    9103 non-null   float64\n",
      " 8   Total Time Spent on Website                    9240 non-null   int64  \n",
      " 9   Page Views Per Visit                           9103 non-null   float64\n",
      " 10  Last Activity                                  9137 non-null   object \n",
      " 11  Country                                        6779 non-null   object \n",
      " 12  Specialization                                 7802 non-null   object \n",
      " 13  How did you hear about X Education             7033 non-null   object \n",
      " 14  What is your current occupation                6550 non-null   object \n",
      " 15  What matters most to you in choosing a course  6531 non-null   object \n",
      " 16  Search                                         9240 non-null   object \n",
      " 17  Magazine                                       9240 non-null   object \n",
      " 18  Newspaper Article                              9240 non-null   object \n",
      " 19  X Education Forums                             9240 non-null   object \n",
      " 20  Newspaper                                      9240 non-null   object \n",
      " 21  Digital Advertisement                          9240 non-null   object \n",
      " 22  Through Recommendations                        9240 non-null   object \n",
      " 23  Receive More Updates About Our Courses         9240 non-null   object \n",
      " 24  Tags                                           5887 non-null   object \n",
      " 25  Lead Quality                                   4473 non-null   object \n",
      " 26  Update me on Supply Chain Content              9240 non-null   object \n",
      " 27  Get updates on DM Content                      9240 non-null   object \n",
      " 28  Lead Profile                                   6531 non-null   object \n",
      " 29  City                                           7820 non-null   object \n",
      " 30  Asymmetrique Activity Index                    5022 non-null   object \n",
      " 31  Asymmetrique Profile Index                     5022 non-null   object \n",
      " 32  Asymmetrique Activity Score                    5022 non-null   float64\n",
      " 33  Asymmetrique Profile Score                     5022 non-null   float64\n",
      " 34  I agree to pay the amount through cheque       9240 non-null   object \n",
      " 35  A free copy of Mastering The Interview         9240 non-null   object \n",
      " 36  Last Notable Activity                          9240 non-null   object \n",
      "dtypes: float64(4), int64(3), object(30)\n",
      "memory usage: 2.6+ MB\n"
     ]
    }
   ],
   "source": [
    "dflead.info()"
   ]
  },
  {
   "cell_type": "code",
   "execution_count": 100,
   "metadata": {
    "ExecuteTime": {
     "end_time": "2022-10-17T08:11:09.773970Z",
     "start_time": "2022-10-17T08:11:09.729089Z"
    },
    "colab": {
     "base_uri": "https://localhost:8080/",
     "height": 361
    },
    "id": "e_ejCijNquNQ",
    "outputId": "c31e414e-9a67-4481-8691-6671d0b912a6"
   },
   "outputs": [
    {
     "data": {
      "text/html": [
       "<div>\n",
       "<style scoped>\n",
       "    .dataframe tbody tr th:only-of-type {\n",
       "        vertical-align: middle;\n",
       "    }\n",
       "\n",
       "    .dataframe tbody tr th {\n",
       "        vertical-align: top;\n",
       "    }\n",
       "\n",
       "    .dataframe thead th {\n",
       "        text-align: right;\n",
       "    }\n",
       "</style>\n",
       "<table border=\"1\" class=\"dataframe\">\n",
       "  <thead>\n",
       "    <tr style=\"text-align: right;\">\n",
       "      <th></th>\n",
       "      <th>Lead Number</th>\n",
       "      <th>Converted</th>\n",
       "      <th>TotalVisits</th>\n",
       "      <th>Total Time Spent on Website</th>\n",
       "      <th>Page Views Per Visit</th>\n",
       "      <th>Asymmetrique Activity Score</th>\n",
       "      <th>Asymmetrique Profile Score</th>\n",
       "    </tr>\n",
       "  </thead>\n",
       "  <tbody>\n",
       "    <tr>\n",
       "      <th>count</th>\n",
       "      <td>9240.000000</td>\n",
       "      <td>9240.000000</td>\n",
       "      <td>9103.000000</td>\n",
       "      <td>9240.000000</td>\n",
       "      <td>9103.000000</td>\n",
       "      <td>5022.000000</td>\n",
       "      <td>5022.000000</td>\n",
       "    </tr>\n",
       "    <tr>\n",
       "      <th>mean</th>\n",
       "      <td>617188.435606</td>\n",
       "      <td>0.385390</td>\n",
       "      <td>3.445238</td>\n",
       "      <td>487.698268</td>\n",
       "      <td>2.362820</td>\n",
       "      <td>14.306252</td>\n",
       "      <td>16.344883</td>\n",
       "    </tr>\n",
       "    <tr>\n",
       "      <th>std</th>\n",
       "      <td>23405.995698</td>\n",
       "      <td>0.486714</td>\n",
       "      <td>4.854853</td>\n",
       "      <td>548.021466</td>\n",
       "      <td>2.161418</td>\n",
       "      <td>1.386694</td>\n",
       "      <td>1.811395</td>\n",
       "    </tr>\n",
       "    <tr>\n",
       "      <th>min</th>\n",
       "      <td>579533.000000</td>\n",
       "      <td>0.000000</td>\n",
       "      <td>0.000000</td>\n",
       "      <td>0.000000</td>\n",
       "      <td>0.000000</td>\n",
       "      <td>7.000000</td>\n",
       "      <td>11.000000</td>\n",
       "    </tr>\n",
       "    <tr>\n",
       "      <th>25%</th>\n",
       "      <td>596484.500000</td>\n",
       "      <td>0.000000</td>\n",
       "      <td>1.000000</td>\n",
       "      <td>12.000000</td>\n",
       "      <td>1.000000</td>\n",
       "      <td>14.000000</td>\n",
       "      <td>15.000000</td>\n",
       "    </tr>\n",
       "    <tr>\n",
       "      <th>50%</th>\n",
       "      <td>615479.000000</td>\n",
       "      <td>0.000000</td>\n",
       "      <td>3.000000</td>\n",
       "      <td>248.000000</td>\n",
       "      <td>2.000000</td>\n",
       "      <td>14.000000</td>\n",
       "      <td>16.000000</td>\n",
       "    </tr>\n",
       "    <tr>\n",
       "      <th>75%</th>\n",
       "      <td>637387.250000</td>\n",
       "      <td>1.000000</td>\n",
       "      <td>5.000000</td>\n",
       "      <td>936.000000</td>\n",
       "      <td>3.000000</td>\n",
       "      <td>15.000000</td>\n",
       "      <td>18.000000</td>\n",
       "    </tr>\n",
       "    <tr>\n",
       "      <th>max</th>\n",
       "      <td>660737.000000</td>\n",
       "      <td>1.000000</td>\n",
       "      <td>251.000000</td>\n",
       "      <td>2272.000000</td>\n",
       "      <td>55.000000</td>\n",
       "      <td>18.000000</td>\n",
       "      <td>20.000000</td>\n",
       "    </tr>\n",
       "  </tbody>\n",
       "</table>\n",
       "</div>"
      ],
      "text/plain": [
       "         Lead Number    Converted  TotalVisits  Total Time Spent on Website  \\\n",
       "count    9240.000000  9240.000000  9103.000000                  9240.000000   \n",
       "mean   617188.435606     0.385390     3.445238                   487.698268   \n",
       "std     23405.995698     0.486714     4.854853                   548.021466   \n",
       "min    579533.000000     0.000000     0.000000                     0.000000   \n",
       "25%    596484.500000     0.000000     1.000000                    12.000000   \n",
       "50%    615479.000000     0.000000     3.000000                   248.000000   \n",
       "75%    637387.250000     1.000000     5.000000                   936.000000   \n",
       "max    660737.000000     1.000000   251.000000                  2272.000000   \n",
       "\n",
       "       Page Views Per Visit  Asymmetrique Activity Score  \\\n",
       "count           9103.000000                  5022.000000   \n",
       "mean               2.362820                    14.306252   \n",
       "std                2.161418                     1.386694   \n",
       "min                0.000000                     7.000000   \n",
       "25%                1.000000                    14.000000   \n",
       "50%                2.000000                    14.000000   \n",
       "75%                3.000000                    15.000000   \n",
       "max               55.000000                    18.000000   \n",
       "\n",
       "       Asymmetrique Profile Score  \n",
       "count                 5022.000000  \n",
       "mean                    16.344883  \n",
       "std                      1.811395  \n",
       "min                     11.000000  \n",
       "25%                     15.000000  \n",
       "50%                     16.000000  \n",
       "75%                     18.000000  \n",
       "max                     20.000000  "
      ]
     },
     "execution_count": 100,
     "metadata": {},
     "output_type": "execute_result"
    }
   ],
   "source": [
    "# Get the summary of the dataframe \n",
    "dflead.describe()"
   ]
  },
  {
   "cell_type": "code",
   "execution_count": 101,
   "metadata": {
    "ExecuteTime": {
     "end_time": "2022-10-17T08:11:10.260344Z",
     "start_time": "2022-10-17T08:11:10.252356Z"
    },
    "colab": {
     "base_uri": "https://localhost:8080/"
    },
    "id": "Scfkumd5qziZ",
    "outputId": "55c70cb3-97a4-4838-99e8-28c69e93578b"
   },
   "outputs": [
    {
     "data": {
      "text/plain": [
       "(9240, 37)"
      ]
     },
     "execution_count": 101,
     "metadata": {},
     "output_type": "execute_result"
    }
   ],
   "source": [
    "# Get the count of the row and col of the given dataset\n",
    "dflead.shape"
   ]
  },
  {
   "cell_type": "markdown",
   "metadata": {
    "id": "1AJcT-93rJmB"
   },
   "source": [
    "### Step : 2 Cleaning up the given Data"
   ]
  },
  {
   "cell_type": "code",
   "execution_count": 102,
   "metadata": {
    "ExecuteTime": {
     "end_time": "2022-10-17T08:11:11.253120Z",
     "start_time": "2022-10-17T08:11:11.234173Z"
    },
    "id": "vpTF4I2crNpJ"
   },
   "outputs": [],
   "source": [
    "# As We have noted the dataframe contains some Select values it means these are the Missing values\n",
    "# Replacing Select values with nan values\n",
    "dflead = dflead.replace('Select',np.nan)"
   ]
  },
  {
   "cell_type": "code",
   "execution_count": 103,
   "metadata": {
    "ExecuteTime": {
     "end_time": "2022-10-17T08:11:11.763581Z",
     "start_time": "2022-10-17T08:11:11.721698Z"
    },
    "colab": {
     "base_uri": "https://localhost:8080/"
    },
    "id": "9UVJ4v_crcLw",
    "outputId": "e5910c15-bbbc-4943-e1d2-7a1729caade9"
   },
   "outputs": [
    {
     "data": {
      "text/plain": [
       "How did you hear about X Education               78.46\n",
       "Lead Profile                                     74.19\n",
       "Lead Quality                                     51.59\n",
       "Asymmetrique Profile Score                       45.65\n",
       "Asymmetrique Activity Score                      45.65\n",
       "Asymmetrique Activity Index                      45.65\n",
       "Asymmetrique Profile Index                       45.65\n",
       "City                                             39.71\n",
       "Specialization                                   36.58\n",
       "Tags                                             36.29\n",
       "What matters most to you in choosing a course    29.32\n",
       "What is your current occupation                  29.11\n",
       "Country                                          26.63\n",
       "Page Views Per Visit                              1.48\n",
       "TotalVisits                                       1.48\n",
       "Last Activity                                     1.11\n",
       "Lead Source                                       0.39\n",
       "Receive More Updates About Our Courses            0.00\n",
       "I agree to pay the amount through cheque          0.00\n",
       "Get updates on DM Content                         0.00\n",
       "Update me on Supply Chain Content                 0.00\n",
       "A free copy of Mastering The Interview            0.00\n",
       "Prospect ID                                       0.00\n",
       "Newspaper Article                                 0.00\n",
       "Through Recommendations                           0.00\n",
       "Digital Advertisement                             0.00\n",
       "Newspaper                                         0.00\n",
       "X Education Forums                                0.00\n",
       "Lead Number                                       0.00\n",
       "Magazine                                          0.00\n",
       "Search                                            0.00\n",
       "Total Time Spent on Website                       0.00\n",
       "Converted                                         0.00\n",
       "Do Not Call                                       0.00\n",
       "Do Not Email                                      0.00\n",
       "Lead Origin                                       0.00\n",
       "Last Notable Activity                             0.00\n",
       "dtype: float64"
      ]
     },
     "execution_count": 103,
     "metadata": {},
     "output_type": "execute_result"
    }
   ],
   "source": [
    "# Checking the missing values\n",
    "round(100*(dflead.isnull().sum()/len(dflead.index)),2).sort_values(ascending = False)"
   ]
  },
  {
   "cell_type": "code",
   "execution_count": 104,
   "metadata": {
    "ExecuteTime": {
     "end_time": "2022-10-17T08:11:12.172774Z",
     "start_time": "2022-10-17T08:11:12.142823Z"
    },
    "id": "695wQ9CSr6i2"
   },
   "outputs": [],
   "source": [
    "# Now we will drop the columns which is having missing values more than 40%\n",
    "cols=dflead.columns[round((dflead.isnull().sum()/len(dflead))*100)>=40]\n",
    "dflead=dflead.drop(cols,1)"
   ]
  },
  {
   "cell_type": "code",
   "execution_count": 105,
   "metadata": {
    "ExecuteTime": {
     "end_time": "2022-10-17T08:11:12.682933Z",
     "start_time": "2022-10-17T08:11:12.663983Z"
    },
    "colab": {
     "base_uri": "https://localhost:8080/"
    },
    "id": "HDRSBtsHsbXc",
    "outputId": "f2f1769a-2003-4d63-90a5-4619fe780269"
   },
   "outputs": [
    {
     "data": {
      "text/plain": [
       "Specialization                                   36.58\n",
       "Tags                                             36.29\n",
       "What matters most to you in choosing a course    29.32\n",
       "What is your current occupation                  29.11\n",
       "Country                                          26.63\n",
       "TotalVisits                                       1.48\n",
       "Page Views Per Visit                              1.48\n",
       "Last Activity                                     1.11\n",
       "Lead Source                                       0.39\n",
       "Update me on Supply Chain Content                 0.00\n",
       "Get updates on DM Content                         0.00\n",
       "X Education Forums                                0.00\n",
       "I agree to pay the amount through cheque          0.00\n",
       "A free copy of Mastering The Interview            0.00\n",
       "Receive More Updates About Our Courses            0.00\n",
       "Through Recommendations                           0.00\n",
       "Digital Advertisement                             0.00\n",
       "Newspaper                                         0.00\n",
       "Prospect ID                                       0.00\n",
       "Newspaper Article                                 0.00\n",
       "Magazine                                          0.00\n",
       "Search                                            0.00\n",
       "Lead Number                                       0.00\n",
       "Total Time Spent on Website                       0.00\n",
       "Converted                                         0.00\n",
       "Do Not Call                                       0.00\n",
       "Do Not Email                                      0.00\n",
       "Lead Origin                                       0.00\n",
       "Last Notable Activity                             0.00\n",
       "dtype: float64"
      ]
     },
     "execution_count": 105,
     "metadata": {},
     "output_type": "execute_result"
    }
   ],
   "source": [
    "# After dropping lets check the number missing values again, we can see that all the columns having more than 40% is dropped\n",
    "round(100*(dflead.isnull().sum()/len(dflead.index)),2).sort_values(ascending = False)"
   ]
  },
  {
   "cell_type": "code",
   "execution_count": 106,
   "metadata": {
    "ExecuteTime": {
     "end_time": "2022-10-17T08:11:13.225607Z",
     "start_time": "2022-10-17T08:11:13.210648Z"
    },
    "id": "0ciDwIJzso6c"
   },
   "outputs": [],
   "source": [
    "# dropping 'Tags' as these features is derived by sales team, so  we do not need it\n",
    "dflead.drop('Tags',1,inplace=True)"
   ]
  },
  {
   "cell_type": "code",
   "execution_count": 107,
   "metadata": {
    "ExecuteTime": {
     "end_time": "2022-10-17T08:11:13.772813Z",
     "start_time": "2022-10-17T08:11:13.752867Z"
    },
    "colab": {
     "base_uri": "https://localhost:8080/"
    },
    "id": "NTdfdGo5szLO",
    "outputId": "3425d836-d04b-461d-98c2-0a3fe598dec2"
   },
   "outputs": [
    {
     "data": {
      "text/plain": [
       "India                   6492\n",
       "United States             69\n",
       "United Arab Emirates      53\n",
       "Singapore                 24\n",
       "Saudi Arabia              21\n",
       "United Kingdom            15\n",
       "Australia                 13\n",
       "Qatar                     10\n",
       "Hong Kong                  7\n",
       "Bahrain                    7\n",
       "Oman                       6\n",
       "France                     6\n",
       "unknown                    5\n",
       "South Africa               4\n",
       "Nigeria                    4\n",
       "Germany                    4\n",
       "Kuwait                     4\n",
       "Canada                     4\n",
       "Sweden                     3\n",
       "China                      2\n",
       "Asia/Pacific Region        2\n",
       "Uganda                     2\n",
       "Bangladesh                 2\n",
       "Italy                      2\n",
       "Belgium                    2\n",
       "Netherlands                2\n",
       "Ghana                      2\n",
       "Philippines                2\n",
       "Russia                     1\n",
       "Switzerland                1\n",
       "Vietnam                    1\n",
       "Denmark                    1\n",
       "Tanzania                   1\n",
       "Liberia                    1\n",
       "Malaysia                   1\n",
       "Kenya                      1\n",
       "Sri Lanka                  1\n",
       "Indonesia                  1\n",
       "Name: Country, dtype: int64"
      ]
     },
     "execution_count": 107,
     "metadata": {},
     "output_type": "execute_result"
    }
   ],
   "source": [
    "# Imputing all the missing values of the 'country' feature with the highest data point\n",
    "# Finding the Labels contains in the Country Variable\n",
    "dflead['Country'].value_counts()"
   ]
  },
  {
   "cell_type": "code",
   "execution_count": 108,
   "metadata": {
    "ExecuteTime": {
     "end_time": "2022-10-17T08:11:14.638772Z",
     "start_time": "2022-10-17T08:11:14.624811Z"
    },
    "id": "tvc4gkbeuDi6"
   },
   "outputs": [],
   "source": [
    "# imputing  \"India\" as its common occurance in Country Column\n",
    "dflead['Country']=dflead['Country'].replace(np.nan,'India')"
   ]
  },
  {
   "cell_type": "code",
   "execution_count": 109,
   "metadata": {
    "ExecuteTime": {
     "end_time": "2022-10-17T08:11:15.182777Z",
     "start_time": "2022-10-17T08:11:15.169796Z"
    },
    "colab": {
     "base_uri": "https://localhost:8080/"
    },
    "id": "ri1rjbU1uLha",
    "outputId": "eabddd0c-7a26-4a33-a093-c17ceda36eb9"
   },
   "outputs": [
    {
     "data": {
      "text/plain": [
       "Finance Management                   976\n",
       "Human Resource Management            848\n",
       "Marketing Management                 838\n",
       "Operations Management                503\n",
       "Business Administration              403\n",
       "IT Projects Management               366\n",
       "Supply Chain Management              349\n",
       "Banking, Investment And Insurance    338\n",
       "Travel and Tourism                   203\n",
       "Media and Advertising                203\n",
       "International Business               178\n",
       "Healthcare Management                159\n",
       "Hospitality Management               114\n",
       "E-COMMERCE                           112\n",
       "Retail Management                    100\n",
       "Rural and Agribusiness                73\n",
       "E-Business                            57\n",
       "Services Excellence                   40\n",
       "Name: Specialization, dtype: int64"
      ]
     },
     "execution_count": 109,
     "metadata": {},
     "output_type": "execute_result"
    }
   ],
   "source": [
    "# Imputing all the missing values of the 'Specialization' feature with the highest data point\n",
    "# Finding the Labels contains in the Country Variable\n",
    "dflead['Specialization'].value_counts()"
   ]
  },
  {
   "cell_type": "code",
   "execution_count": 110,
   "metadata": {
    "ExecuteTime": {
     "end_time": "2022-10-17T08:11:15.788366Z",
     "start_time": "2022-10-17T08:11:15.777393Z"
    },
    "id": "qXWJREqnuhjJ"
   },
   "outputs": [],
   "source": [
    "# Imputing  \"Finance Management\" as its common occurance in Specialization Column\n",
    "dflead['Specialization']=dflead['Specialization'].replace(np.nan,'Finance Management')"
   ]
  },
  {
   "cell_type": "code",
   "execution_count": 111,
   "metadata": {
    "ExecuteTime": {
     "end_time": "2022-10-17T08:11:16.256290Z",
     "start_time": "2022-10-17T08:11:16.242326Z"
    },
    "colab": {
     "base_uri": "https://localhost:8080/"
    },
    "id": "BaZb45SgunMh",
    "outputId": "e7c0abde-8c30-4db5-a30f-bfc4d349b81a"
   },
   "outputs": [
    {
     "data": {
      "text/plain": [
       "Unemployed              5600\n",
       "Working Professional     706\n",
       "Student                  210\n",
       "Other                     16\n",
       "Housewife                 10\n",
       "Businessman                8\n",
       "Name: What is your current occupation, dtype: int64"
      ]
     },
     "execution_count": 111,
     "metadata": {},
     "output_type": "execute_result"
    }
   ],
   "source": [
    "# Imputing all the missing values of the 'What is your current occupation' feature with the highest data point\n",
    "# Finding the Labels contains in the Country Variable\n",
    "dflead['What is your current occupation'].value_counts()"
   ]
  },
  {
   "cell_type": "code",
   "execution_count": 112,
   "metadata": {
    "ExecuteTime": {
     "end_time": "2022-10-17T08:11:16.835597Z",
     "start_time": "2022-10-17T08:11:16.825624Z"
    },
    "id": "UT9bBqk_u4BY"
   },
   "outputs": [],
   "source": [
    "# Imputing  \"Unemployed\" as its common occurance in What is your current occupation Column\n",
    "dflead['What is your current occupation']=dflead['What is your current occupation'].replace(np.nan,'Unemployed')"
   ]
  },
  {
   "cell_type": "code",
   "execution_count": 113,
   "metadata": {
    "ExecuteTime": {
     "end_time": "2022-10-17T08:11:17.376557Z",
     "start_time": "2022-10-17T08:11:17.361598Z"
    },
    "colab": {
     "base_uri": "https://localhost:8080/"
    },
    "id": "4YaU8Ktbu8uA",
    "outputId": "48c8a840-ad8f-4f5c-e02e-abde186e92e1"
   },
   "outputs": [
    {
     "data": {
      "text/plain": [
       "Better Career Prospects      6528\n",
       "Flexibility & Convenience       2\n",
       "Other                           1\n",
       "Name: What matters most to you in choosing a course, dtype: int64"
      ]
     },
     "execution_count": 113,
     "metadata": {},
     "output_type": "execute_result"
    }
   ],
   "source": [
    "# Imputing all the missing values of the 'What matters most to you in choosing a course' feature with the highest data point\n",
    "# Finding the Labels contains in the Country Variable\n",
    "dflead['What matters most to you in choosing a course'].value_counts()"
   ]
  },
  {
   "cell_type": "code",
   "execution_count": 114,
   "metadata": {
    "ExecuteTime": {
     "end_time": "2022-10-17T08:11:17.921627Z",
     "start_time": "2022-10-17T08:11:17.914754Z"
    },
    "id": "UuHU4ZrGvELw"
   },
   "outputs": [],
   "source": [
    "# Dropping \"What matters most to you in choosing a course\" as we have almost same value for colums\n",
    "dflead.drop('What matters most to you in choosing a course',1,inplace=True)"
   ]
  },
  {
   "cell_type": "code",
   "execution_count": 115,
   "metadata": {
    "ExecuteTime": {
     "end_time": "2022-10-17T08:11:18.479059Z",
     "start_time": "2022-10-17T08:11:18.465095Z"
    },
    "colab": {
     "base_uri": "https://localhost:8080/"
    },
    "id": "na2EoU5FvRbz",
    "outputId": "6794aa0a-d38f-4248-f741-d570cf36f8b5"
   },
   "outputs": [
    {
     "data": {
      "text/plain": [
       "Email Opened                    3437\n",
       "SMS Sent                        2745\n",
       "Olark Chat Conversation          973\n",
       "Page Visited on Website          640\n",
       "Converted to Lead                428\n",
       "Email Bounced                    326\n",
       "Email Link Clicked               267\n",
       "Form Submitted on Website        116\n",
       "Unreachable                       93\n",
       "Unsubscribed                      61\n",
       "Had a Phone Conversation          30\n",
       "Approached upfront                 9\n",
       "View in browser link Clicked       6\n",
       "Email Received                     2\n",
       "Email Marked Spam                  2\n",
       "Visited Booth in Tradeshow         1\n",
       "Resubscribed to emails             1\n",
       "Name: Last Activity, dtype: int64"
      ]
     },
     "execution_count": 115,
     "metadata": {},
     "output_type": "execute_result"
    }
   ],
   "source": [
    "# Imputing all the missing values of the 'Last Activity' feature with the highest data point\n",
    "# Finding the Labels contains in the Country Variable\n",
    "dflead['Last Activity'].value_counts()"
   ]
  },
  {
   "cell_type": "code",
   "execution_count": 116,
   "metadata": {
    "ExecuteTime": {
     "end_time": "2022-10-17T08:11:18.974854Z",
     "start_time": "2022-10-17T08:11:18.962886Z"
    },
    "id": "yxAFm1ytvd7Q"
   },
   "outputs": [],
   "source": [
    "# Imputing \"Email Opened\" as its common occurance in Last Activity Column\n",
    "dflead['Last Activity']=dflead['Last Activity'].fillna('Email Opened')"
   ]
  },
  {
   "cell_type": "code",
   "execution_count": 117,
   "metadata": {
    "ExecuteTime": {
     "end_time": "2022-10-17T08:11:19.487050Z",
     "start_time": "2022-10-17T08:11:19.465114Z"
    },
    "colab": {
     "base_uri": "https://localhost:8080/"
    },
    "id": "liTDcXqDvsL3",
    "outputId": "1b861454-39de-4c7a-9cee-edff451ebbaa"
   },
   "outputs": [
    {
     "data": {
      "text/plain": [
       "Google               2868\n",
       "Direct Traffic       2543\n",
       "Olark Chat           1755\n",
       "Organic Search       1154\n",
       "Reference             534\n",
       "Welingak Website      142\n",
       "Referral Sites        125\n",
       "Facebook               55\n",
       "bing                    6\n",
       "google                  5\n",
       "Click2call              4\n",
       "Press_Release           2\n",
       "Social Media            2\n",
       "Live Chat               2\n",
       "youtubechannel          1\n",
       "testone                 1\n",
       "Pay per Click Ads       1\n",
       "welearnblog_Home        1\n",
       "WeLearn                 1\n",
       "blog                    1\n",
       "NC_EDM                  1\n",
       "Name: Lead Source, dtype: int64"
      ]
     },
     "execution_count": 117,
     "metadata": {},
     "output_type": "execute_result"
    }
   ],
   "source": [
    "# Imputing all the missing values of the 'Lead Source' feature with the highest data point\n",
    "# Finding the Labels contains in the Country Variable\n",
    "dflead['Lead Source'].value_counts()"
   ]
  },
  {
   "cell_type": "code",
   "execution_count": 118,
   "metadata": {
    "ExecuteTime": {
     "end_time": "2022-10-17T08:11:20.541125Z",
     "start_time": "2022-10-17T08:11:20.522175Z"
    },
    "id": "NP4LklfdwPae"
   },
   "outputs": [],
   "source": [
    "# imputing  \"Google\" as its common occurance in Lead Source Column\n",
    "dflead['Lead Source']=dflead['Lead Source'].replace(np.nan,'Google')"
   ]
  },
  {
   "cell_type": "code",
   "execution_count": 119,
   "metadata": {
    "ExecuteTime": {
     "end_time": "2022-10-17T08:11:21.242943Z",
     "start_time": "2022-10-17T08:11:21.225005Z"
    },
    "id": "7zZsxVlWwYe3"
   },
   "outputs": [],
   "source": [
    "# here we have found that google and Google is same just a typo hence we replaced it google to Google.\n",
    "dflead['Lead Source']=dflead['Lead Source'].replace('google','Google')"
   ]
  },
  {
   "cell_type": "code",
   "execution_count": 120,
   "metadata": {
    "ExecuteTime": {
     "end_time": "2022-10-17T08:11:21.941966Z",
     "start_time": "2022-10-17T08:11:21.921023Z"
    },
    "colab": {
     "base_uri": "https://localhost:8080/"
    },
    "id": "o15OchK0wg8G",
    "outputId": "c16b48e4-bec2-4b07-cd4d-afba30df6037"
   },
   "outputs": [
    {
     "data": {
      "text/plain": [
       "TotalVisits                                 1.48\n",
       "Page Views Per Visit                        1.48\n",
       "Prospect ID                                 0.00\n",
       "Magazine                                    0.00\n",
       "A free copy of Mastering The Interview      0.00\n",
       "I agree to pay the amount through cheque    0.00\n",
       "Get updates on DM Content                   0.00\n",
       "Update me on Supply Chain Content           0.00\n",
       "Receive More Updates About Our Courses      0.00\n",
       "Through Recommendations                     0.00\n",
       "Digital Advertisement                       0.00\n",
       "Newspaper                                   0.00\n",
       "X Education Forums                          0.00\n",
       "Newspaper Article                           0.00\n",
       "What is your current occupation             0.00\n",
       "Search                                      0.00\n",
       "Lead Number                                 0.00\n",
       "Specialization                              0.00\n",
       "Country                                     0.00\n",
       "Last Activity                               0.00\n",
       "Total Time Spent on Website                 0.00\n",
       "Converted                                   0.00\n",
       "Do Not Call                                 0.00\n",
       "Do Not Email                                0.00\n",
       "Lead Source                                 0.00\n",
       "Lead Origin                                 0.00\n",
       "Last Notable Activity                       0.00\n",
       "dtype: float64"
      ]
     },
     "execution_count": 120,
     "metadata": {},
     "output_type": "execute_result"
    }
   ],
   "source": [
    "# Now lets just check how many missing values are there in our dataset\n",
    "round(100*(dflead.isnull().sum()/len(dflead.index)),2).sort_values(ascending = False)"
   ]
  },
  {
   "cell_type": "markdown",
   "metadata": {
    "id": "TlGRzoQexAmr"
   },
   "source": [
    "### Outlier Detection"
   ]
  },
  {
   "cell_type": "code",
   "execution_count": 121,
   "metadata": {
    "ExecuteTime": {
     "end_time": "2022-10-17T08:11:23.379463Z",
     "start_time": "2022-10-17T08:11:23.057326Z"
    },
    "colab": {
     "base_uri": "https://localhost:8080/",
     "height": 309
    },
    "id": "R--udN1MxDA2",
    "outputId": "9baf674b-9c17-4066-a610-5fd4e94864db",
    "scrolled": true
   },
   "outputs": [
    {
     "data": {
      "image/png": "[encoded data removed]",
      "text/plain": [
       "<Figure size 1440x1080 with 3 Axes>"
      ]
     },
     "metadata": {},
     "output_type": "display_data"
    }
   ],
   "source": [
    "# Finding the outliers\n",
    "plt.figure(figsize = (20,15))\n",
    "plt.subplot(2,3,1)\n",
    "sns.boxplot(dflead['TotalVisits'])\n",
    "plt.subplot(2,3,2)\n",
    "sns.boxplot(dflead['Page Views Per Visit'])\n",
    "plt.subplot(2,3,3)\n",
    "sns.boxplot(dflead['Total Time Spent on Website'])\n",
    "plt.xlabel('Total Time Spent on Website')\n",
    "plt.show()"
   ]
  },
  {
   "cell_type": "code",
   "execution_count": 122,
   "metadata": {
    "ExecuteTime": {
     "end_time": "2022-10-17T08:11:24.973101Z",
     "start_time": "2022-10-17T08:11:24.953155Z"
    },
    "id": "PgLdnyTSxMie"
   },
   "outputs": [],
   "source": [
    "# Imputing Median to 'TotaVisits' and 'Page Views Per Visit'\n",
    "dflead['TotalVisits']=dflead['TotalVisits'].fillna(dflead['TotalVisits'].median())\n",
    "dflead['Page Views Per Visit']=dflead['Page Views Per Visit'].fillna(dflead['Page Views Per Visit'].median())"
   ]
  },
  {
   "cell_type": "code",
   "execution_count": 123,
   "metadata": {
    "ExecuteTime": {
     "end_time": "2022-10-17T08:11:25.684862Z",
     "start_time": "2022-10-17T08:11:25.656934Z"
    },
    "colab": {
     "base_uri": "https://localhost:8080/",
     "height": 229
    },
    "id": "jZxowphUxibE",
    "outputId": "2984645e-c6a0-4d68-c3fa-3a9484c86ab5"
   },
   "outputs": [
    {
     "data": {
      "text/html": [
       "<div>\n",
       "<style scoped>\n",
       "    .dataframe tbody tr th:only-of-type {\n",
       "        vertical-align: middle;\n",
       "    }\n",
       "\n",
       "    .dataframe tbody tr th {\n",
       "        vertical-align: top;\n",
       "    }\n",
       "\n",
       "    .dataframe thead th {\n",
       "        text-align: right;\n",
       "    }\n",
       "</style>\n",
       "<table border=\"1\" class=\"dataframe\">\n",
       "  <thead>\n",
       "    <tr style=\"text-align: right;\">\n",
       "      <th></th>\n",
       "      <th>Prospect ID</th>\n",
       "      <th>Lead Number</th>\n",
       "      <th>Lead Origin</th>\n",
       "      <th>Lead Source</th>\n",
       "      <th>Do Not Email</th>\n",
       "      <th>Do Not Call</th>\n",
       "      <th>Converted</th>\n",
       "      <th>TotalVisits</th>\n",
       "      <th>Total Time Spent on Website</th>\n",
       "      <th>Page Views Per Visit</th>\n",
       "      <th>...</th>\n",
       "      <th>X Education Forums</th>\n",
       "      <th>Newspaper</th>\n",
       "      <th>Digital Advertisement</th>\n",
       "      <th>Through Recommendations</th>\n",
       "      <th>Receive More Updates About Our Courses</th>\n",
       "      <th>Update me on Supply Chain Content</th>\n",
       "      <th>Get updates on DM Content</th>\n",
       "      <th>I agree to pay the amount through cheque</th>\n",
       "      <th>A free copy of Mastering The Interview</th>\n",
       "      <th>Last Notable Activity</th>\n",
       "    </tr>\n",
       "  </thead>\n",
       "  <tbody>\n",
       "  </tbody>\n",
       "</table>\n",
       "<p>0 rows × 27 columns</p>\n",
       "</div>"
      ],
      "text/plain": [
       "Empty DataFrame\n",
       "Columns: [Prospect ID, Lead Number, Lead Origin, Lead Source, Do Not Email, Do Not Call, Converted, TotalVisits, Total Time Spent on Website, Page Views Per Visit, Last Activity, Country, Specialization, What is your current occupation, Search, Magazine, Newspaper Article, X Education Forums, Newspaper, Digital Advertisement, Through Recommendations, Receive More Updates About Our Courses, Update me on Supply Chain Content, Get updates on DM Content, I agree to pay the amount through cheque, A free copy of Mastering The Interview, Last Notable Activity]\n",
       "Index: []\n",
       "\n",
       "[0 rows x 27 columns]"
      ]
     },
     "execution_count": 123,
     "metadata": {},
     "output_type": "execute_result"
    }
   ],
   "source": [
    "dflead[pd.isnull(dflead).any(axis=1)==True]"
   ]
  },
  {
   "cell_type": "code",
   "execution_count": 124,
   "metadata": {
    "ExecuteTime": {
     "end_time": "2022-10-17T08:11:26.802473Z",
     "start_time": "2022-10-17T08:11:26.783524Z"
    },
    "colab": {
     "base_uri": "https://localhost:8080/"
    },
    "id": "2-ibRr8Vxk79",
    "outputId": "55f32a70-eca7-45f2-fac3-1d423acd6308"
   },
   "outputs": [
    {
     "data": {
      "text/plain": [
       "Prospect ID                                 0.0\n",
       "Lead Number                                 0.0\n",
       "Lead Origin                                 0.0\n",
       "Lead Source                                 0.0\n",
       "Do Not Email                                0.0\n",
       "Do Not Call                                 0.0\n",
       "Converted                                   0.0\n",
       "TotalVisits                                 0.0\n",
       "Total Time Spent on Website                 0.0\n",
       "Page Views Per Visit                        0.0\n",
       "Last Activity                               0.0\n",
       "Country                                     0.0\n",
       "Specialization                              0.0\n",
       "What is your current occupation             0.0\n",
       "Search                                      0.0\n",
       "Magazine                                    0.0\n",
       "Newspaper Article                           0.0\n",
       "X Education Forums                          0.0\n",
       "Newspaper                                   0.0\n",
       "Digital Advertisement                       0.0\n",
       "Through Recommendations                     0.0\n",
       "Receive More Updates About Our Courses      0.0\n",
       "Update me on Supply Chain Content           0.0\n",
       "Get updates on DM Content                   0.0\n",
       "I agree to pay the amount through cheque    0.0\n",
       "A free copy of Mastering The Interview      0.0\n",
       "Last Notable Activity                       0.0\n",
       "dtype: float64"
      ]
     },
     "execution_count": 124,
     "metadata": {},
     "output_type": "execute_result"
    }
   ],
   "source": [
    "# Lets check the null values\n",
    "round(100*(dflead.isnull().sum()/len(dflead)),2)"
   ]
  },
  {
   "cell_type": "code",
   "execution_count": 125,
   "metadata": {
    "ExecuteTime": {
     "end_time": "2022-10-17T08:11:27.351860Z",
     "start_time": "2022-10-17T08:11:27.333882Z"
    },
    "id": "haq72iCYx8fk"
   },
   "outputs": [],
   "source": [
    "# making lead number as index\n",
    "dflead=dflead.set_index('Lead Number')\n",
    "dflead.drop(['Prospect ID'],1,inplace=True)"
   ]
  },
  {
   "cell_type": "code",
   "execution_count": 126,
   "metadata": {
    "ExecuteTime": {
     "end_time": "2022-10-17T08:11:28.002456Z",
     "start_time": "2022-10-17T08:11:27.984501Z"
    },
    "colab": {
     "base_uri": "https://localhost:8080/"
    },
    "id": "B48yqXlMx-1L",
    "outputId": "988e006d-bbbd-4633-8d60-ae6bb1fc923b"
   },
   "outputs": [
    {
     "name": "stdout",
     "output_type": "stream",
     "text": [
      "columns with object dtype \n",
      " ['Lead Origin', 'Lead Source', 'Do Not Email', 'Do Not Call', 'Last Activity', 'Country', 'Specialization', 'What is your current occupation', 'Search', 'Magazine', 'Newspaper Article', 'X Education Forums', 'Newspaper', 'Digital Advertisement', 'Through Recommendations', 'Receive More Updates About Our Courses', 'Update me on Supply Chain Content', 'Get updates on DM Content', 'I agree to pay the amount through cheque', 'A free copy of Mastering The Interview', 'Last Notable Activity'] \n",
      " \n",
      " columns with number dtype \n",
      " ['Converted', 'Total Time Spent on Website', 'TotalVisits', 'Page Views Per Visit']\n"
     ]
    }
   ],
   "source": [
    "# Storing column with dtype object and column with dtype number in two different list, so we can easily Perform analysis \n",
    "col_obj=list(dflead.loc[:, dflead.dtypes == np.object].columns)\n",
    "col_num=list(dflead.loc[:, dflead.dtypes == np.int64].columns)\n",
    "col_num+=(list(dflead.loc[:, dflead.dtypes == np.number].columns))\n",
    "print('columns with object dtype \\n {} \\n \\n columns with number dtype \\n {}'.format(col_obj,col_num))"
   ]
  },
  {
   "cell_type": "code",
   "execution_count": 127,
   "metadata": {
    "ExecuteTime": {
     "end_time": "2022-10-17T08:11:31.608205Z",
     "start_time": "2022-10-17T08:11:28.807914Z"
    },
    "colab": {
     "base_uri": "https://localhost:8080/",
     "height": 1000
    },
    "id": "kC4u4PpxyJKD",
    "outputId": "847206dc-5423-432e-9e76-bf459bba6cfd"
   },
   "outputs": [
    {
     "data": {
      "image/png": "[encoded data removed]",
      "text/plain": [
       "<Figure size 1944x2880 with 21 Axes>"
      ]
     },
     "metadata": {},
     "output_type": "display_data"
    }
   ],
   "source": [
    "# plotting countplot for object dtype and histogram for number to get data distribution\n",
    "plt.figure(figsize=(27,40))\n",
    "sns.set()\n",
    "plt.subplots_adjust(wspace=.2,hspace=1 )\n",
    "for i in enumerate(col_obj):\n",
    "    plt.subplot(7,3, i[0]+1)\n",
    "    sns.countplot(i[1],data=dflead) \n",
    "    plt.xticks(rotation=90)\n",
    "plt.show()"
   ]
  },
  {
   "cell_type": "code",
   "execution_count": 128,
   "metadata": {
    "ExecuteTime": {
     "end_time": "2022-10-17T08:11:32.042801Z",
     "start_time": "2022-10-17T08:11:32.028839Z"
    },
    "id": "-TESUyjKyj-6"
   },
   "outputs": [],
   "source": [
    "# Taking care of highly skewed columns  and one value only\n",
    "dflead=dflead.drop(['What is your current occupation','Do Not Call','Do Not Email','Country','Search',\\\n",
    "                      'X Education Forums','Newspaper','Newspaper Article','Through Recommendations','Digital Advertisement'],1)"
   ]
  },
  {
   "cell_type": "code",
   "execution_count": 129,
   "metadata": {
    "ExecuteTime": {
     "end_time": "2022-10-17T08:11:33.204922Z",
     "start_time": "2022-10-17T08:11:33.192948Z"
    },
    "id": "BkNUqNMnyk-a"
   },
   "outputs": [],
   "source": [
    "# Droping those variables which contains two labels but one is very High and another is very less number of labels.\n",
    "dflead=dflead.drop(['Magazine','Receive More Updates About Our Courses','Update me on Supply Chain Content',\\\n",
    "                      'Get updates on DM Content','I agree to pay the amount through cheque', ],1)\n",
    "col_obj=dflead.loc[:, dflead.dtypes == np.object].columns"
   ]
  },
  {
   "cell_type": "code",
   "execution_count": 130,
   "metadata": {
    "ExecuteTime": {
     "end_time": "2022-10-17T08:11:35.735320Z",
     "start_time": "2022-10-17T08:11:35.712349Z"
    },
    "id": "m6CligKFym6q"
   },
   "outputs": [],
   "source": [
    "# changing categories which are occured less than 1000\n",
    "col_dict_ls=dict(dflead['Lead Source'].value_counts()<1000)\n",
    "\n",
    "# labels which are occured less like Reference,Reffereal site we can impute to 'Other'\n",
    "for i in col_dict_ls.keys():\n",
    "    if col_dict_ls[i]==True:\n",
    "        dflead['Lead Source']=dflead['Lead Source'].replace(i,'Other')"
   ]
  },
  {
   "cell_type": "code",
   "execution_count": 131,
   "metadata": {
    "ExecuteTime": {
     "end_time": "2022-10-17T08:11:36.391934Z",
     "start_time": "2022-10-17T08:11:36.377972Z"
    },
    "id": "cA0g_5xyytpF"
   },
   "outputs": [],
   "source": [
    "# Changing categories which are occured less than 300\n",
    "col_dict_la=dict(dflead['Last Activity'].value_counts()<300)\n",
    "# labels which are occured less like Resubscribed to emails ,Visited Booth in Tradeshow...those are impute to 'Other'\n",
    "\n",
    "for i in col_dict_la.keys():\n",
    "    if col_dict_la[i]==True:\n",
    "        dflead['Last Activity']=dflead['Last Activity'].replace(i,'Other')"
   ]
  },
  {
   "cell_type": "code",
   "execution_count": 132,
   "metadata": {
    "ExecuteTime": {
     "end_time": "2022-10-17T08:11:36.885444Z",
     "start_time": "2022-10-17T08:11:36.855509Z"
    },
    "id": "VovLqERrywg6"
   },
   "outputs": [],
   "source": [
    "# Changing categories which are occured less than 500\n",
    "col_dict_lna=dict(dflead['Last Notable Activity'].value_counts()<500)\n",
    "# labels which are occured less like Reference,Reffereal site we can impute to 'Other'\n",
    "\n",
    "for i in col_dict_lna.keys():\n",
    "    if col_dict_lna[i]==True:\n",
    "        dflead['Last Notable Activity']=dflead['Last Notable Activity'].replace(i,'Other')"
   ]
  },
  {
   "cell_type": "code",
   "execution_count": 133,
   "metadata": {
    "ExecuteTime": {
     "end_time": "2022-10-17T08:11:37.736535Z",
     "start_time": "2022-10-17T08:11:37.711601Z"
    },
    "id": "JYEMueWEyykK"
   },
   "outputs": [],
   "source": [
    "# Changing categories which are occured less than 350\n",
    "col_dict_spec=dict(dflead['Specialization'].value_counts()<350)\n",
    "# labels which are occured less like E-Business,Retail Management we can impute to 'Other'\n",
    "\n",
    "for i in col_dict_spec.keys():\n",
    "    if col_dict_spec[i]==True:\n",
    "        dflead['Specialization']=dflead['Specialization'].replace(i,'Other')"
   ]
  },
  {
   "cell_type": "markdown",
   "metadata": {
    "id": "jdYcTmudy-hp"
   },
   "source": [
    "### Step : 3 Exploratory Data Analysis"
   ]
  },
  {
   "cell_type": "markdown",
   "metadata": {},
   "source": [
    "### Univariate Analysis (Categorical)"
   ]
  },
  {
   "cell_type": "code",
   "execution_count": 134,
   "metadata": {
    "ExecuteTime": {
     "end_time": "2022-10-17T08:11:39.936887Z",
     "start_time": "2022-10-17T08:11:39.920929Z"
    },
    "colab": {
     "base_uri": "https://localhost:8080/"
    },
    "id": "w-8SaRy8y_fS",
    "outputId": "daa2d50c-0752-4007-befc-78702aa90377"
   },
   "outputs": [
    {
     "data": {
      "text/plain": [
       "Index(['Lead Origin', 'Lead Source', 'Last Activity', 'Specialization',\n",
       "       'A free copy of Mastering The Interview', 'Last Notable Activity'],\n",
       "      dtype='object')"
      ]
     },
     "execution_count": 134,
     "metadata": {},
     "output_type": "execute_result"
    }
   ],
   "source": [
    "# Univariate Analysis (Categorical)\n",
    "# creating cols which contains only Categorical variable\n",
    "cols=dflead.loc[:, dflead.dtypes == np.object].columns\n",
    "cols"
   ]
  },
  {
   "cell_type": "code",
   "execution_count": 135,
   "metadata": {
    "ExecuteTime": {
     "end_time": "2022-10-17T08:11:41.496334Z",
     "start_time": "2022-10-17T08:11:40.817563Z"
    },
    "colab": {
     "base_uri": "https://localhost:8080/",
     "height": 909
    },
    "id": "Vbg6DHAKzHBB",
    "outputId": "3fe3614f-e38c-49a3-93cd-0bf4b9d148f6"
   },
   "outputs": [
    {
     "data": {
      "image/png": "[encoded data removed]",
      "text/plain": [
       "<Figure size 1224x1584 with 6 Axes>"
      ]
     },
     "metadata": {},
     "output_type": "display_data"
    }
   ],
   "source": [
    "# Plotting them\n",
    "plt.figure(figsize=(17,22))\n",
    "sns.set()\n",
    "plt.subplots_adjust(wspace=.2,hspace=1.2 )\n",
    "for i in enumerate(col_obj):\n",
    "    plt.subplot(4,2, i[0]+1)\n",
    "    sns.countplot(i[1],data=dflead)\n",
    "    plt.xticks(rotation=90)\n",
    "plt.show()"
   ]
  },
  {
   "cell_type": "markdown",
   "metadata": {
    "id": "TlrceoUtz8fo"
   },
   "source": [
    "## In the above we have conclude the below points\n",
    "a.In Lead Source we can see that Direct Traffic and Google are the two main source for Leads\n",
    "\n",
    "b.Email Opened and SMS Sent in Last Activity is high we can see\n",
    "\n",
    "c.Finance Management Specialization is the most chosen one in the specialization category"
   ]
  },
  {
   "cell_type": "code",
   "execution_count": 136,
   "metadata": {
    "ExecuteTime": {
     "end_time": "2022-10-17T08:11:44.357212Z",
     "start_time": "2022-10-17T08:11:43.473057Z"
    },
    "colab": {
     "base_uri": "https://localhost:8080/",
     "height": 1000
    },
    "id": "AflgcWf50CTw",
    "outputId": "0eec81ea-3f61-4948-824b-a51f9418a6e9"
   },
   "outputs": [
    {
     "data": {
      "image/png": "[encoded data removed]",
      "text/plain": [
       "<Figure size 1152x1152 with 3 Axes>"
      ]
     },
     "metadata": {},
     "output_type": "display_data"
    }
   ],
   "source": [
    "# Univariate Analysis(Contenious data points)\n",
    "col_num.remove('Converted')\n",
    "\n",
    "plt.figure(figsize=(16,16))\n",
    "plt.subplots_adjust(bottom=.01)\n",
    "for i in enumerate(col_num):\n",
    "    \n",
    "    plt.subplot(2,2, i[0]+1)\n",
    "    sns.distplot(dflead[i[1]])\n",
    "    \n",
    "    plt.xticks(rotation=90)\n",
    "# plt.savefig('coniouus_univar.png',dpi=300,transparent=True)\n",
    "plt.show()"
   ]
  },
  {
   "cell_type": "markdown",
   "metadata": {
    "id": "-KCuhynb0yY2"
   },
   "source": [
    "## Above analysis\n",
    "a.Continueous Variables are not in Normal distribution\n",
    "\n",
    "b.Outliers are there in Total Visits and Page Views Per Visit\n",
    "\n",
    "c.We can see that the total visits have more values is between 0-50 and page views per visits 0-20"
   ]
  },
  {
   "cell_type": "markdown",
   "metadata": {
    "id": "ebKkAzDS06Pu"
   },
   "source": [
    "### Bivariate Analysis"
   ]
  },
  {
   "cell_type": "code",
   "execution_count": 137,
   "metadata": {
    "ExecuteTime": {
     "end_time": "2022-10-17T08:11:47.929160Z",
     "start_time": "2022-10-17T08:11:47.007953Z"
    },
    "colab": {
     "base_uri": "https://localhost:8080/",
     "height": 908
    },
    "id": "RD-ov1Tk07Qp",
    "outputId": "38ca63b4-f73f-4206-8cdd-207df24c85eb",
    "scrolled": true
   },
   "outputs": [
    {
     "data": {
      "image/png": "[encoded data removed]",
      "text/plain": [
       "<Figure size 1080x1440 with 6 Axes>"
      ]
     },
     "metadata": {},
     "output_type": "display_data"
    }
   ],
   "source": [
    "plt.figure(figsize=(15,20))\n",
    "plt.subplots_adjust(wspace=.2,hspace=1.2 )\n",
    "for i in enumerate(col_obj):\n",
    "    plt.subplot(4,2, i[0]+1)\n",
    "    sns.countplot(x = i[1],hue = 'Converted', data = dflead)\n",
    "    plt.xticks(rotation=90)\n",
    "# plt.savefig('cate bivar.png',dpi=300,transparent=True)\n",
    "plt.show()"
   ]
  },
  {
   "cell_type": "markdown",
   "metadata": {},
   "source": [
    "## Observing Correlation"
   ]
  },
  {
   "cell_type": "code",
   "execution_count": 138,
   "metadata": {
    "ExecuteTime": {
     "end_time": "2022-10-17T08:14:26.037999Z",
     "start_time": "2022-10-17T08:14:25.776698Z"
    },
    "scrolled": true
   },
   "outputs": [
    {
     "data": {
      "image/png": "[encoded data removed]",
      "text/plain": [
       "<Figure size 720x576 with 2 Axes>"
      ]
     },
     "metadata": {},
     "output_type": "display_data"
    }
   ],
   "source": [
    "# Observing Correlation\n",
    "# figure size\n",
    "plt.figure(figsize=(10,8))\n",
    "\n",
    "# heatmap\n",
    "sns.heatmap(dflead.corr(), annot=True,cmap=\"flare\", robust=True,linewidth=0.1, vmin=-1 )\n",
    "plt.show()"
   ]
  },
  {
   "cell_type": "markdown",
   "metadata": {},
   "source": [
    "#### We can observe that the variables are not highly correlated with each other."
   ]
  },
  {
   "cell_type": "markdown",
   "metadata": {
    "id": "MG7XTxTS1GIu"
   },
   "source": [
    "### Step : 4 Data Preparation and Features Selection"
   ]
  },
  {
   "cell_type": "code",
   "execution_count": 44,
   "metadata": {
    "ExecuteTime": {
     "end_time": "2022-10-17T08:10:54.350055Z",
     "start_time": "2022-10-17T08:10:54.337092Z"
    },
    "colab": {
     "base_uri": "https://localhost:8080/",
     "height": 420
    },
    "id": "dSYSsr8J1HaA",
    "outputId": "c377621d-c58f-451b-93bd-5b634dabd8d4"
   },
   "outputs": [
    {
     "data": {
      "text/html": [
       "<div>\n",
       "<style scoped>\n",
       "    .dataframe tbody tr th:only-of-type {\n",
       "        vertical-align: middle;\n",
       "    }\n",
       "\n",
       "    .dataframe tbody tr th {\n",
       "        vertical-align: top;\n",
       "    }\n",
       "\n",
       "    .dataframe thead th {\n",
       "        text-align: right;\n",
       "    }\n",
       "</style>\n",
       "<table border=\"1\" class=\"dataframe\">\n",
       "  <thead>\n",
       "    <tr style=\"text-align: right;\">\n",
       "      <th></th>\n",
       "      <th>Lead Origin</th>\n",
       "      <th>Lead Source</th>\n",
       "      <th>Converted</th>\n",
       "      <th>TotalVisits</th>\n",
       "      <th>Total Time Spent on Website</th>\n",
       "      <th>Page Views Per Visit</th>\n",
       "      <th>Last Activity</th>\n",
       "      <th>Specialization</th>\n",
       "      <th>A free copy of Mastering The Interview</th>\n",
       "      <th>Last Notable Activity</th>\n",
       "    </tr>\n",
       "    <tr>\n",
       "      <th>Lead Number</th>\n",
       "      <th></th>\n",
       "      <th></th>\n",
       "      <th></th>\n",
       "      <th></th>\n",
       "      <th></th>\n",
       "      <th></th>\n",
       "      <th></th>\n",
       "      <th></th>\n",
       "      <th></th>\n",
       "      <th></th>\n",
       "    </tr>\n",
       "  </thead>\n",
       "  <tbody>\n",
       "    <tr>\n",
       "      <th>660737</th>\n",
       "      <td>API</td>\n",
       "      <td>Olark Chat</td>\n",
       "      <td>0</td>\n",
       "      <td>0.0</td>\n",
       "      <td>0</td>\n",
       "      <td>0.0</td>\n",
       "      <td>Page Visited on Website</td>\n",
       "      <td>Finance Management</td>\n",
       "      <td>No</td>\n",
       "      <td>Modified</td>\n",
       "    </tr>\n",
       "    <tr>\n",
       "      <th>660728</th>\n",
       "      <td>API</td>\n",
       "      <td>Organic Search</td>\n",
       "      <td>0</td>\n",
       "      <td>5.0</td>\n",
       "      <td>674</td>\n",
       "      <td>2.5</td>\n",
       "      <td>Email Opened</td>\n",
       "      <td>Finance Management</td>\n",
       "      <td>No</td>\n",
       "      <td>Email Opened</td>\n",
       "    </tr>\n",
       "    <tr>\n",
       "      <th>660727</th>\n",
       "      <td>Landing Page Submission</td>\n",
       "      <td>Direct Traffic</td>\n",
       "      <td>1</td>\n",
       "      <td>2.0</td>\n",
       "      <td>1532</td>\n",
       "      <td>2.0</td>\n",
       "      <td>Email Opened</td>\n",
       "      <td>Business Administration</td>\n",
       "      <td>Yes</td>\n",
       "      <td>Email Opened</td>\n",
       "    </tr>\n",
       "    <tr>\n",
       "      <th>660719</th>\n",
       "      <td>Landing Page Submission</td>\n",
       "      <td>Direct Traffic</td>\n",
       "      <td>0</td>\n",
       "      <td>1.0</td>\n",
       "      <td>305</td>\n",
       "      <td>1.0</td>\n",
       "      <td>Other</td>\n",
       "      <td>Other</td>\n",
       "      <td>No</td>\n",
       "      <td>Modified</td>\n",
       "    </tr>\n",
       "    <tr>\n",
       "      <th>660681</th>\n",
       "      <td>Landing Page Submission</td>\n",
       "      <td>Google</td>\n",
       "      <td>1</td>\n",
       "      <td>2.0</td>\n",
       "      <td>1428</td>\n",
       "      <td>1.0</td>\n",
       "      <td>Converted to Lead</td>\n",
       "      <td>Finance Management</td>\n",
       "      <td>No</td>\n",
       "      <td>Modified</td>\n",
       "    </tr>\n",
       "  </tbody>\n",
       "</table>\n",
       "</div>"
      ],
      "text/plain": [
       "                         Lead Origin     Lead Source  Converted  TotalVisits  \\\n",
       "Lead Number                                                                    \n",
       "660737                           API      Olark Chat          0          0.0   \n",
       "660728                           API  Organic Search          0          5.0   \n",
       "660727       Landing Page Submission  Direct Traffic          1          2.0   \n",
       "660719       Landing Page Submission  Direct Traffic          0          1.0   \n",
       "660681       Landing Page Submission          Google          1          2.0   \n",
       "\n",
       "             Total Time Spent on Website  Page Views Per Visit  \\\n",
       "Lead Number                                                      \n",
       "660737                                 0                   0.0   \n",
       "660728                               674                   2.5   \n",
       "660727                              1532                   2.0   \n",
       "660719                               305                   1.0   \n",
       "660681                              1428                   1.0   \n",
       "\n",
       "                       Last Activity           Specialization  \\\n",
       "Lead Number                                                     \n",
       "660737       Page Visited on Website       Finance Management   \n",
       "660728                  Email Opened       Finance Management   \n",
       "660727                  Email Opened  Business Administration   \n",
       "660719                         Other                    Other   \n",
       "660681             Converted to Lead       Finance Management   \n",
       "\n",
       "            A free copy of Mastering The Interview Last Notable Activity  \n",
       "Lead Number                                                               \n",
       "660737                                          No              Modified  \n",
       "660728                                          No          Email Opened  \n",
       "660727                                         Yes          Email Opened  \n",
       "660719                                          No              Modified  \n",
       "660681                                          No              Modified  "
      ]
     },
     "execution_count": 44,
     "metadata": {},
     "output_type": "execute_result"
    }
   ],
   "source": [
    "# Checking the revised and cleaned up dataset\n",
    "dflead.head()"
   ]
  },
  {
   "cell_type": "code",
   "execution_count": 45,
   "metadata": {
    "ExecuteTime": {
     "end_time": "2022-10-17T08:10:54.380972Z",
     "start_time": "2022-10-17T08:10:54.352057Z"
    },
    "id": "1XD4Sqs31OjX"
   },
   "outputs": [],
   "source": [
    "# mapping of columns\n",
    "\n",
    "dflead['A free copy of Mastering The Interview']=dflead['A free copy of Mastering The Interview'].apply(lambda x: 1 if x=='Yes' else 0)"
   ]
  },
  {
   "cell_type": "code",
   "execution_count": 46,
   "metadata": {
    "ExecuteTime": {
     "end_time": "2022-10-17T08:10:54.395936Z",
     "start_time": "2022-10-17T08:10:54.382967Z"
    },
    "id": "n5nSrq1O1Sbl"
   },
   "outputs": [],
   "source": [
    "# Dropping the Last Notable Activity as it is mostly same Last Activity\n",
    "dflead.drop('Last Notable Activity',1,inplace=True)"
   ]
  },
  {
   "cell_type": "code",
   "execution_count": 47,
   "metadata": {
    "ExecuteTime": {
     "end_time": "2022-10-17T08:10:54.441814Z",
     "start_time": "2022-10-17T08:10:54.398927Z"
    },
    "colab": {
     "base_uri": "https://localhost:8080/",
     "height": 417
    },
    "id": "aWIhhXQP1V0W",
    "outputId": "49ab3a1b-d440-4b0c-f862-ae8514cf4522"
   },
   "outputs": [
    {
     "data": {
      "text/html": [
       "<div>\n",
       "<style scoped>\n",
       "    .dataframe tbody tr th:only-of-type {\n",
       "        vertical-align: middle;\n",
       "    }\n",
       "\n",
       "    .dataframe tbody tr th {\n",
       "        vertical-align: top;\n",
       "    }\n",
       "\n",
       "    .dataframe thead th {\n",
       "        text-align: right;\n",
       "    }\n",
       "</style>\n",
       "<table border=\"1\" class=\"dataframe\">\n",
       "  <thead>\n",
       "    <tr style=\"text-align: right;\">\n",
       "      <th></th>\n",
       "      <th>Converted</th>\n",
       "      <th>TotalVisits</th>\n",
       "      <th>Total Time Spent on Website</th>\n",
       "      <th>Page Views Per Visit</th>\n",
       "      <th>A free copy of Mastering The Interview</th>\n",
       "      <th>Lead Origin_API</th>\n",
       "      <th>Lead Origin_Landing Page Submission</th>\n",
       "      <th>Lead Origin_Lead Add Form</th>\n",
       "      <th>Lead Origin_Lead Import</th>\n",
       "      <th>Lead Origin_Quick Add Form</th>\n",
       "      <th>...</th>\n",
       "      <th>Last Activity_Other</th>\n",
       "      <th>Last Activity_Page Visited on Website</th>\n",
       "      <th>Last Activity_SMS Sent</th>\n",
       "      <th>Specialization_Business Administration</th>\n",
       "      <th>Specialization_Finance Management</th>\n",
       "      <th>Specialization_Human Resource Management</th>\n",
       "      <th>Specialization_IT Projects Management</th>\n",
       "      <th>Specialization_Marketing Management</th>\n",
       "      <th>Specialization_Operations Management</th>\n",
       "      <th>Specialization_Other</th>\n",
       "    </tr>\n",
       "    <tr>\n",
       "      <th>Lead Number</th>\n",
       "      <th></th>\n",
       "      <th></th>\n",
       "      <th></th>\n",
       "      <th></th>\n",
       "      <th></th>\n",
       "      <th></th>\n",
       "      <th></th>\n",
       "      <th></th>\n",
       "      <th></th>\n",
       "      <th></th>\n",
       "      <th></th>\n",
       "      <th></th>\n",
       "      <th></th>\n",
       "      <th></th>\n",
       "      <th></th>\n",
       "      <th></th>\n",
       "      <th></th>\n",
       "      <th></th>\n",
       "      <th></th>\n",
       "      <th></th>\n",
       "      <th></th>\n",
       "    </tr>\n",
       "  </thead>\n",
       "  <tbody>\n",
       "    <tr>\n",
       "      <th>660737</th>\n",
       "      <td>0</td>\n",
       "      <td>0.0</td>\n",
       "      <td>0</td>\n",
       "      <td>0.0</td>\n",
       "      <td>0</td>\n",
       "      <td>1</td>\n",
       "      <td>0</td>\n",
       "      <td>0</td>\n",
       "      <td>0</td>\n",
       "      <td>0</td>\n",
       "      <td>...</td>\n",
       "      <td>0</td>\n",
       "      <td>1</td>\n",
       "      <td>0</td>\n",
       "      <td>0</td>\n",
       "      <td>1</td>\n",
       "      <td>0</td>\n",
       "      <td>0</td>\n",
       "      <td>0</td>\n",
       "      <td>0</td>\n",
       "      <td>0</td>\n",
       "    </tr>\n",
       "    <tr>\n",
       "      <th>660728</th>\n",
       "      <td>0</td>\n",
       "      <td>5.0</td>\n",
       "      <td>674</td>\n",
       "      <td>2.5</td>\n",
       "      <td>0</td>\n",
       "      <td>1</td>\n",
       "      <td>0</td>\n",
       "      <td>0</td>\n",
       "      <td>0</td>\n",
       "      <td>0</td>\n",
       "      <td>...</td>\n",
       "      <td>0</td>\n",
       "      <td>0</td>\n",
       "      <td>0</td>\n",
       "      <td>0</td>\n",
       "      <td>1</td>\n",
       "      <td>0</td>\n",
       "      <td>0</td>\n",
       "      <td>0</td>\n",
       "      <td>0</td>\n",
       "      <td>0</td>\n",
       "    </tr>\n",
       "    <tr>\n",
       "      <th>660727</th>\n",
       "      <td>1</td>\n",
       "      <td>2.0</td>\n",
       "      <td>1532</td>\n",
       "      <td>2.0</td>\n",
       "      <td>1</td>\n",
       "      <td>0</td>\n",
       "      <td>1</td>\n",
       "      <td>0</td>\n",
       "      <td>0</td>\n",
       "      <td>0</td>\n",
       "      <td>...</td>\n",
       "      <td>0</td>\n",
       "      <td>0</td>\n",
       "      <td>0</td>\n",
       "      <td>1</td>\n",
       "      <td>0</td>\n",
       "      <td>0</td>\n",
       "      <td>0</td>\n",
       "      <td>0</td>\n",
       "      <td>0</td>\n",
       "      <td>0</td>\n",
       "    </tr>\n",
       "    <tr>\n",
       "      <th>660719</th>\n",
       "      <td>0</td>\n",
       "      <td>1.0</td>\n",
       "      <td>305</td>\n",
       "      <td>1.0</td>\n",
       "      <td>0</td>\n",
       "      <td>0</td>\n",
       "      <td>1</td>\n",
       "      <td>0</td>\n",
       "      <td>0</td>\n",
       "      <td>0</td>\n",
       "      <td>...</td>\n",
       "      <td>1</td>\n",
       "      <td>0</td>\n",
       "      <td>0</td>\n",
       "      <td>0</td>\n",
       "      <td>0</td>\n",
       "      <td>0</td>\n",
       "      <td>0</td>\n",
       "      <td>0</td>\n",
       "      <td>0</td>\n",
       "      <td>1</td>\n",
       "    </tr>\n",
       "    <tr>\n",
       "      <th>660681</th>\n",
       "      <td>1</td>\n",
       "      <td>2.0</td>\n",
       "      <td>1428</td>\n",
       "      <td>1.0</td>\n",
       "      <td>0</td>\n",
       "      <td>0</td>\n",
       "      <td>1</td>\n",
       "      <td>0</td>\n",
       "      <td>0</td>\n",
       "      <td>0</td>\n",
       "      <td>...</td>\n",
       "      <td>0</td>\n",
       "      <td>0</td>\n",
       "      <td>0</td>\n",
       "      <td>0</td>\n",
       "      <td>1</td>\n",
       "      <td>0</td>\n",
       "      <td>0</td>\n",
       "      <td>0</td>\n",
       "      <td>0</td>\n",
       "      <td>0</td>\n",
       "    </tr>\n",
       "  </tbody>\n",
       "</table>\n",
       "<p>5 rows × 29 columns</p>\n",
       "</div>"
      ],
      "text/plain": [
       "             Converted  TotalVisits  Total Time Spent on Website  \\\n",
       "Lead Number                                                        \n",
       "660737               0          0.0                            0   \n",
       "660728               0          5.0                          674   \n",
       "660727               1          2.0                         1532   \n",
       "660719               0          1.0                          305   \n",
       "660681               1          2.0                         1428   \n",
       "\n",
       "             Page Views Per Visit  A free copy of Mastering The Interview  \\\n",
       "Lead Number                                                                 \n",
       "660737                        0.0                                       0   \n",
       "660728                        2.5                                       0   \n",
       "660727                        2.0                                       1   \n",
       "660719                        1.0                                       0   \n",
       "660681                        1.0                                       0   \n",
       "\n",
       "             Lead Origin_API  Lead Origin_Landing Page Submission  \\\n",
       "Lead Number                                                         \n",
       "660737                     1                                    0   \n",
       "660728                     1                                    0   \n",
       "660727                     0                                    1   \n",
       "660719                     0                                    1   \n",
       "660681                     0                                    1   \n",
       "\n",
       "             Lead Origin_Lead Add Form  Lead Origin_Lead Import  \\\n",
       "Lead Number                                                       \n",
       "660737                               0                        0   \n",
       "660728                               0                        0   \n",
       "660727                               0                        0   \n",
       "660719                               0                        0   \n",
       "660681                               0                        0   \n",
       "\n",
       "             Lead Origin_Quick Add Form  ...  Last Activity_Other  \\\n",
       "Lead Number                              ...                        \n",
       "660737                                0  ...                    0   \n",
       "660728                                0  ...                    0   \n",
       "660727                                0  ...                    0   \n",
       "660719                                0  ...                    1   \n",
       "660681                                0  ...                    0   \n",
       "\n",
       "             Last Activity_Page Visited on Website  Last Activity_SMS Sent  \\\n",
       "Lead Number                                                                  \n",
       "660737                                           1                       0   \n",
       "660728                                           0                       0   \n",
       "660727                                           0                       0   \n",
       "660719                                           0                       0   \n",
       "660681                                           0                       0   \n",
       "\n",
       "             Specialization_Business Administration  \\\n",
       "Lead Number                                           \n",
       "660737                                            0   \n",
       "660728                                            0   \n",
       "660727                                            1   \n",
       "660719                                            0   \n",
       "660681                                            0   \n",
       "\n",
       "             Specialization_Finance Management  \\\n",
       "Lead Number                                      \n",
       "660737                                       1   \n",
       "660728                                       1   \n",
       "660727                                       0   \n",
       "660719                                       0   \n",
       "660681                                       1   \n",
       "\n",
       "             Specialization_Human Resource Management  \\\n",
       "Lead Number                                             \n",
       "660737                                              0   \n",
       "660728                                              0   \n",
       "660727                                              0   \n",
       "660719                                              0   \n",
       "660681                                              0   \n",
       "\n",
       "             Specialization_IT Projects Management  \\\n",
       "Lead Number                                          \n",
       "660737                                           0   \n",
       "660728                                           0   \n",
       "660727                                           0   \n",
       "660719                                           0   \n",
       "660681                                           0   \n",
       "\n",
       "             Specialization_Marketing Management  \\\n",
       "Lead Number                                        \n",
       "660737                                         0   \n",
       "660728                                         0   \n",
       "660727                                         0   \n",
       "660719                                         0   \n",
       "660681                                         0   \n",
       "\n",
       "             Specialization_Operations Management  Specialization_Other  \n",
       "Lead Number                                                              \n",
       "660737                                          0                     0  \n",
       "660728                                          0                     0  \n",
       "660727                                          0                     0  \n",
       "660719                                          0                     1  \n",
       "660681                                          0                     0  \n",
       "\n",
       "[5 rows x 29 columns]"
      ]
     },
     "execution_count": 47,
     "metadata": {},
     "output_type": "execute_result"
    }
   ],
   "source": [
    "# Creating dummies of Categorical Variables\n",
    "dummies_df=pd.get_dummies(dflead)\n",
    "dummies_df.head()"
   ]
  },
  {
   "cell_type": "code",
   "execution_count": 48,
   "metadata": {
    "ExecuteTime": {
     "end_time": "2022-10-17T08:10:54.457767Z",
     "start_time": "2022-10-17T08:10:54.443804Z"
    },
    "id": "v21XIdL51bKm"
   },
   "outputs": [],
   "source": [
    "# dropping columns on basis of anal\n",
    "\n",
    "dummies_df=dummies_df.drop(['A free copy of Mastering The Interview','Lead Origin_Lead Add Form','Lead Source_Organic Search','Last Activity_Email Opened','Specialization_Operations Management'],1)"
   ]
  },
  {
   "cell_type": "markdown",
   "metadata": {
    "id": "2v8vYYWE1hRK"
   },
   "source": [
    "### Splitting the Data into Training and Testing Sets"
   ]
  },
  {
   "cell_type": "code",
   "execution_count": 49,
   "metadata": {
    "ExecuteTime": {
     "end_time": "2022-10-17T08:10:54.473724Z",
     "start_time": "2022-10-17T08:10:54.459761Z"
    },
    "id": "sHf9XTHP1jPd"
   },
   "outputs": [],
   "source": [
    "X=dummies_df.iloc[:,1:]\n",
    "y=dummies_df[['Converted']]"
   ]
  },
  {
   "cell_type": "code",
   "execution_count": 50,
   "metadata": {
    "ExecuteTime": {
     "end_time": "2022-10-17T08:10:54.489681Z",
     "start_time": "2022-10-17T08:10:54.475718Z"
    },
    "id": "Hi6LiK1G1lZV"
   },
   "outputs": [],
   "source": [
    "X_train, X_test, y_train, y_test=train_test_split(X,y,train_size=.7,test_size=.3,random_state=1)"
   ]
  },
  {
   "cell_type": "code",
   "execution_count": 51,
   "metadata": {
    "ExecuteTime": {
     "end_time": "2022-10-17T08:10:54.504640Z",
     "start_time": "2022-10-17T08:10:54.490679Z"
    },
    "id": "75-_iJ751oBU"
   },
   "outputs": [],
   "source": [
    "# scaling the Features\n",
    "scaler=StandardScaler()\n",
    "X_train[['Total Time Spent on Website','Page Views Per Visit','TotalVisits']]=\\\n",
    "scaler.fit_transform(X_train[['Total Time Spent on Website','Page Views Per Visit','TotalVisits']])"
   ]
  },
  {
   "cell_type": "code",
   "execution_count": 52,
   "metadata": {
    "ExecuteTime": {
     "end_time": "2022-10-17T08:10:54.519601Z",
     "start_time": "2022-10-17T08:10:54.505639Z"
    },
    "id": "QTILy6nm5CHq"
   },
   "outputs": [],
   "source": [
    "# Using rfe for features selection\n",
    "Logreg=LogisticRegression()"
   ]
  },
  {
   "cell_type": "code",
   "execution_count": 53,
   "metadata": {
    "ExecuteTime": {
     "end_time": "2022-10-17T08:10:55.017622Z",
     "start_time": "2022-10-17T08:10:54.520598Z"
    },
    "id": "DTL6BF-45Jhe"
   },
   "outputs": [],
   "source": [
    "rfe=RFE(Logreg)    # running RFE\n",
    "rfe=rfe.fit(X_train,y_train)"
   ]
  },
  {
   "cell_type": "code",
   "execution_count": 54,
   "metadata": {
    "ExecuteTime": {
     "end_time": "2022-10-17T08:10:55.033580Z",
     "start_time": "2022-10-17T08:10:55.018620Z"
    },
    "colab": {
     "base_uri": "https://localhost:8080/"
    },
    "id": "rhqVm5d95SNH",
    "outputId": "23e243f2-fb3b-45cb-bf29-87b2226f4956"
   },
   "outputs": [
    {
     "data": {
      "text/plain": [
       "array([False,  True, False,  True,  True,  True, False, False, False,\n",
       "        True, False,  True,  True,  True, False,  True,  True, False,\n",
       "        True, False, False, False, False])"
      ]
     },
     "execution_count": 54,
     "metadata": {},
     "output_type": "execute_result"
    }
   ],
   "source": [
    "rfe.support_"
   ]
  },
  {
   "cell_type": "code",
   "execution_count": 55,
   "metadata": {
    "ExecuteTime": {
     "end_time": "2022-10-17T08:10:55.064498Z",
     "start_time": "2022-10-17T08:10:55.044563Z"
    },
    "colab": {
     "base_uri": "https://localhost:8080/"
    },
    "id": "l67raGfR6jP1",
    "outputId": "e60136ff-45d3-4693-d0b0-c2b22135a885"
   },
   "outputs": [
    {
     "data": {
      "text/plain": [
       "[('TotalVisits', False, 6),\n",
       " ('Total Time Spent on Website', True, 1),\n",
       " ('Page Views Per Visit', False, 5),\n",
       " ('Lead Origin_API', True, 1),\n",
       " ('Lead Origin_Landing Page Submission', True, 1),\n",
       " ('Lead Origin_Lead Import', True, 1),\n",
       " ('Lead Origin_Quick Add Form', False, 12),\n",
       " ('Lead Source_Direct Traffic', False, 3),\n",
       " ('Lead Source_Google', False, 10),\n",
       " ('Lead Source_Olark Chat', True, 1),\n",
       " ('Lead Source_Other', False, 2),\n",
       " ('Last Activity_Converted to Lead', True, 1),\n",
       " ('Last Activity_Email Bounced', True, 1),\n",
       " ('Last Activity_Olark Chat Conversation', True, 1),\n",
       " ('Last Activity_Other', False, 4),\n",
       " ('Last Activity_Page Visited on Website', True, 1),\n",
       " ('Last Activity_SMS Sent', True, 1),\n",
       " ('Specialization_Business Administration', False, 7),\n",
       " ('Specialization_Finance Management', True, 1),\n",
       " ('Specialization_Human Resource Management', False, 9),\n",
       " ('Specialization_IT Projects Management', False, 11),\n",
       " ('Specialization_Marketing Management', False, 13),\n",
       " ('Specialization_Other', False, 8)]"
      ]
     },
     "execution_count": 55,
     "metadata": {},
     "output_type": "execute_result"
    }
   ],
   "source": [
    "list(zip(X_train.columns, rfe.support_, rfe.ranking_))"
   ]
  },
  {
   "cell_type": "code",
   "execution_count": 56,
   "metadata": {
    "ExecuteTime": {
     "end_time": "2022-10-17T08:10:55.079457Z",
     "start_time": "2022-10-17T08:10:55.066492Z"
    },
    "colab": {
     "base_uri": "https://localhost:8080/"
    },
    "id": "FG5plP9v6l9e",
    "outputId": "51c2fb8d-2024-4fef-d4c3-af7485c2b6cb"
   },
   "outputs": [
    {
     "data": {
      "text/plain": [
       "Index(['Total Time Spent on Website', 'Lead Origin_API',\n",
       "       'Lead Origin_Landing Page Submission', 'Lead Origin_Lead Import',\n",
       "       'Lead Source_Olark Chat', 'Last Activity_Converted to Lead',\n",
       "       'Last Activity_Email Bounced', 'Last Activity_Olark Chat Conversation',\n",
       "       'Last Activity_Page Visited on Website', 'Last Activity_SMS Sent',\n",
       "       'Specialization_Finance Management'],\n",
       "      dtype='object')"
      ]
     },
     "execution_count": 56,
     "metadata": {},
     "output_type": "execute_result"
    }
   ],
   "source": [
    "# After used RFE here RFE selected these variables should be used for modeling\n",
    "col = X_train.columns[rfe.support_]\n",
    "col"
   ]
  },
  {
   "cell_type": "code",
   "execution_count": 57,
   "metadata": {
    "ExecuteTime": {
     "end_time": "2022-10-17T08:10:55.095416Z",
     "start_time": "2022-10-17T08:10:55.080454Z"
    },
    "colab": {
     "base_uri": "https://localhost:8080/"
    },
    "id": "9Q60rXgK6xg1",
    "outputId": "a3385e66-5a55-4876-bbbc-b172c2ccfd3a"
   },
   "outputs": [
    {
     "data": {
      "text/plain": [
       "Index(['TotalVisits', 'Page Views Per Visit', 'Lead Origin_Quick Add Form',\n",
       "       'Lead Source_Direct Traffic', 'Lead Source_Google', 'Lead Source_Other',\n",
       "       'Last Activity_Other', 'Specialization_Business Administration',\n",
       "       'Specialization_Human Resource Management',\n",
       "       'Specialization_IT Projects Management',\n",
       "       'Specialization_Marketing Management', 'Specialization_Other'],\n",
       "      dtype='object')"
      ]
     },
     "execution_count": 57,
     "metadata": {},
     "output_type": "execute_result"
    }
   ],
   "source": [
    "# After used RFE here RFE selected these variables should not be used for modeling\n",
    "X_train.columns[~rfe.support_]"
   ]
  },
  {
   "cell_type": "markdown",
   "metadata": {
    "id": "s1HEmbKm67Fc"
   },
   "source": [
    "### tep 5: Building a Logistic Regression using statsmodel, for the detailed statistics"
   ]
  },
  {
   "cell_type": "code",
   "execution_count": 58,
   "metadata": {
    "ExecuteTime": {
     "end_time": "2022-10-17T08:10:55.188166Z",
     "start_time": "2022-10-17T08:10:55.097410Z"
    },
    "colab": {
     "base_uri": "https://localhost:8080/",
     "height": 504
    },
    "id": "zgiGWDyW68JV",
    "outputId": "30f38f98-4983-4eca-f73c-d2946dbee1a2"
   },
   "outputs": [
    {
     "data": {
      "text/html": [
       "<table class=\"simpletable\">\n",
       "<caption>Generalized Linear Model Regression Results</caption>\n",
       "<tr>\n",
       "  <th>Dep. Variable:</th>       <td>Converted</td>    <th>  No. Observations:  </th>  <td>  6468</td> \n",
       "</tr>\n",
       "<tr>\n",
       "  <th>Model:</th>                  <td>GLM</td>       <th>  Df Residuals:      </th>  <td>  6456</td> \n",
       "</tr>\n",
       "<tr>\n",
       "  <th>Model Family:</th>        <td>Binomial</td>     <th>  Df Model:          </th>  <td>    11</td> \n",
       "</tr>\n",
       "<tr>\n",
       "  <th>Link Function:</th>         <td>logit</td>      <th>  Scale:             </th> <td>  1.0000</td>\n",
       "</tr>\n",
       "<tr>\n",
       "  <th>Method:</th>                <td>IRLS</td>       <th>  Log-Likelihood:    </th> <td> -2927.8</td>\n",
       "</tr>\n",
       "<tr>\n",
       "  <th>Date:</th>            <td>Mon, 17 Oct 2022</td> <th>  Deviance:          </th> <td>  5855.5</td>\n",
       "</tr>\n",
       "<tr>\n",
       "  <th>Time:</th>                <td>13:40:55</td>     <th>  Pearson chi2:      </th> <td>6.70e+03</td>\n",
       "</tr>\n",
       "<tr>\n",
       "  <th>No. Iterations:</th>          <td>6</td>        <th>                     </th>     <td> </td>   \n",
       "</tr>\n",
       "<tr>\n",
       "  <th>Covariance Type:</th>     <td>nonrobust</td>    <th>                     </th>     <td> </td>   \n",
       "</tr>\n",
       "</table>\n",
       "<table class=\"simpletable\">\n",
       "<tr>\n",
       "                    <td></td>                       <th>coef</th>     <th>std err</th>      <th>z</th>      <th>P>|z|</th>  <th>[0.025</th>    <th>0.975]</th>  \n",
       "</tr>\n",
       "<tr>\n",
       "  <th>const</th>                                 <td>    3.1343</td> <td>    0.183</td> <td>   17.090</td> <td> 0.000</td> <td>    2.775</td> <td>    3.494</td>\n",
       "</tr>\n",
       "<tr>\n",
       "  <th>Total Time Spent on Website</th>           <td>    1.1099</td> <td>    0.038</td> <td>   29.054</td> <td> 0.000</td> <td>    1.035</td> <td>    1.185</td>\n",
       "</tr>\n",
       "<tr>\n",
       "  <th>Lead Origin_API</th>                       <td>   -3.7826</td> <td>    0.193</td> <td>  -19.618</td> <td> 0.000</td> <td>   -4.161</td> <td>   -3.405</td>\n",
       "</tr>\n",
       "<tr>\n",
       "  <th>Lead Origin_Landing Page Submission</th>   <td>   -4.2540</td> <td>    0.187</td> <td>  -22.778</td> <td> 0.000</td> <td>   -4.620</td> <td>   -3.888</td>\n",
       "</tr>\n",
       "<tr>\n",
       "  <th>Lead Origin_Lead Import</th>               <td>   -3.8017</td> <td>    0.500</td> <td>   -7.605</td> <td> 0.000</td> <td>   -4.782</td> <td>   -2.822</td>\n",
       "</tr>\n",
       "<tr>\n",
       "  <th>Lead Source_Olark Chat</th>                <td>    0.9961</td> <td>    0.116</td> <td>    8.593</td> <td> 0.000</td> <td>    0.769</td> <td>    1.223</td>\n",
       "</tr>\n",
       "<tr>\n",
       "  <th>Last Activity_Converted to Lead</th>       <td>   -1.0731</td> <td>    0.196</td> <td>   -5.466</td> <td> 0.000</td> <td>   -1.458</td> <td>   -0.688</td>\n",
       "</tr>\n",
       "<tr>\n",
       "  <th>Last Activity_Email Bounced</th>           <td>   -1.8424</td> <td>    0.278</td> <td>   -6.637</td> <td> 0.000</td> <td>   -2.386</td> <td>   -1.298</td>\n",
       "</tr>\n",
       "<tr>\n",
       "  <th>Last Activity_Olark Chat Conversation</th> <td>   -1.7335</td> <td>    0.167</td> <td>  -10.410</td> <td> 0.000</td> <td>   -2.060</td> <td>   -1.407</td>\n",
       "</tr>\n",
       "<tr>\n",
       "  <th>Last Activity_Page Visited on Website</th> <td>   -0.5989</td> <td>    0.141</td> <td>   -4.249</td> <td> 0.000</td> <td>   -0.875</td> <td>   -0.323</td>\n",
       "</tr>\n",
       "<tr>\n",
       "  <th>Last Activity_SMS Sent</th>                <td>    1.1053</td> <td>    0.072</td> <td>   15.328</td> <td> 0.000</td> <td>    0.964</td> <td>    1.247</td>\n",
       "</tr>\n",
       "<tr>\n",
       "  <th>Specialization_Finance Management</th>     <td>   -0.4700</td> <td>    0.084</td> <td>   -5.583</td> <td> 0.000</td> <td>   -0.635</td> <td>   -0.305</td>\n",
       "</tr>\n",
       "</table>"
      ],
      "text/plain": [
       "<class 'statsmodels.iolib.summary.Summary'>\n",
       "\"\"\"\n",
       "                 Generalized Linear Model Regression Results                  \n",
       "==============================================================================\n",
       "Dep. Variable:              Converted   No. Observations:                 6468\n",
       "Model:                            GLM   Df Residuals:                     6456\n",
       "Model Family:                Binomial   Df Model:                           11\n",
       "Link Function:                  logit   Scale:                          1.0000\n",
       "Method:                          IRLS   Log-Likelihood:                -2927.8\n",
       "Date:                Mon, 17 Oct 2022   Deviance:                       5855.5\n",
       "Time:                        13:40:55   Pearson chi2:                 6.70e+03\n",
       "No. Iterations:                     6                                         \n",
       "Covariance Type:            nonrobust                                         \n",
       "=========================================================================================================\n",
       "                                            coef    std err          z      P>|z|      [0.025      0.975]\n",
       "---------------------------------------------------------------------------------------------------------\n",
       "const                                     3.1343      0.183     17.090      0.000       2.775       3.494\n",
       "Total Time Spent on Website               1.1099      0.038     29.054      0.000       1.035       1.185\n",
       "Lead Origin_API                          -3.7826      0.193    -19.618      0.000      -4.161      -3.405\n",
       "Lead Origin_Landing Page Submission      -4.2540      0.187    -22.778      0.000      -4.620      -3.888\n",
       "Lead Origin_Lead Import                  -3.8017      0.500     -7.605      0.000      -4.782      -2.822\n",
       "Lead Source_Olark Chat                    0.9961      0.116      8.593      0.000       0.769       1.223\n",
       "Last Activity_Converted to Lead          -1.0731      0.196     -5.466      0.000      -1.458      -0.688\n",
       "Last Activity_Email Bounced              -1.8424      0.278     -6.637      0.000      -2.386      -1.298\n",
       "Last Activity_Olark Chat Conversation    -1.7335      0.167    -10.410      0.000      -2.060      -1.407\n",
       "Last Activity_Page Visited on Website    -0.5989      0.141     -4.249      0.000      -0.875      -0.323\n",
       "Last Activity_SMS Sent                    1.1053      0.072     15.328      0.000       0.964       1.247\n",
       "Specialization_Finance Management        -0.4700      0.084     -5.583      0.000      -0.635      -0.305\n",
       "=========================================================================================================\n",
       "\"\"\""
      ]
     },
     "execution_count": 58,
     "metadata": {},
     "output_type": "execute_result"
    }
   ],
   "source": [
    "X_train_sm = sm.add_constant(X_train[col])\n",
    "logm1 = sm.GLM(y_train,X_train_sm, family = sm.families.Binomial())\n",
    "res = logm1.fit()\n",
    "res.summary()"
   ]
  },
  {
   "cell_type": "code",
   "execution_count": 59,
   "metadata": {
    "ExecuteTime": {
     "end_time": "2022-10-17T08:10:55.203129Z",
     "start_time": "2022-10-17T08:10:55.189164Z"
    },
    "id": "kQx8geRo7Eke"
   },
   "outputs": [],
   "source": [
    "# function to calculate vif\n",
    "def vif_calculator(df):\n",
    "    vif = pd.DataFrame()\n",
    "\n",
    "    vif['Features'] = df.columns\n",
    "    vif['VIF'] = [variance_inflation_factor(df.values, i) for i in range(df.shape[1])]\n",
    "    vif['VIF'] = round(vif['VIF'], 2)\n",
    "    vif = vif.sort_values(by = \"VIF\", ascending = False)\n",
    "    return vif"
   ]
  },
  {
   "cell_type": "code",
   "execution_count": 60,
   "metadata": {
    "ExecuteTime": {
     "end_time": "2022-10-17T08:10:55.280918Z",
     "start_time": "2022-10-17T08:10:55.207120Z"
    },
    "colab": {
     "base_uri": "https://localhost:8080/",
     "height": 394
    },
    "id": "-YyvFMTR7Ktb",
    "outputId": "59a59874-4117-4e1d-abb3-275c79aaf45a"
   },
   "outputs": [
    {
     "data": {
      "text/html": [
       "<div>\n",
       "<style scoped>\n",
       "    .dataframe tbody tr th:only-of-type {\n",
       "        vertical-align: middle;\n",
       "    }\n",
       "\n",
       "    .dataframe tbody tr th {\n",
       "        vertical-align: top;\n",
       "    }\n",
       "\n",
       "    .dataframe thead th {\n",
       "        text-align: right;\n",
       "    }\n",
       "</style>\n",
       "<table border=\"1\" class=\"dataframe\">\n",
       "  <thead>\n",
       "    <tr style=\"text-align: right;\">\n",
       "      <th></th>\n",
       "      <th>Features</th>\n",
       "      <th>VIF</th>\n",
       "    </tr>\n",
       "  </thead>\n",
       "  <tbody>\n",
       "    <tr>\n",
       "      <th>1</th>\n",
       "      <td>Lead Origin_API</td>\n",
       "      <td>3.80</td>\n",
       "    </tr>\n",
       "    <tr>\n",
       "      <th>10</th>\n",
       "      <td>Specialization_Finance Management</td>\n",
       "      <td>2.79</td>\n",
       "    </tr>\n",
       "    <tr>\n",
       "      <th>4</th>\n",
       "      <td>Lead Source_Olark Chat</td>\n",
       "      <td>2.47</td>\n",
       "    </tr>\n",
       "    <tr>\n",
       "      <th>2</th>\n",
       "      <td>Lead Origin_Landing Page Submission</td>\n",
       "      <td>1.74</td>\n",
       "    </tr>\n",
       "    <tr>\n",
       "      <th>9</th>\n",
       "      <td>Last Activity_SMS Sent</td>\n",
       "      <td>1.53</td>\n",
       "    </tr>\n",
       "    <tr>\n",
       "      <th>7</th>\n",
       "      <td>Last Activity_Olark Chat Conversation</td>\n",
       "      <td>1.51</td>\n",
       "    </tr>\n",
       "    <tr>\n",
       "      <th>0</th>\n",
       "      <td>Total Time Spent on Website</td>\n",
       "      <td>1.24</td>\n",
       "    </tr>\n",
       "    <tr>\n",
       "      <th>8</th>\n",
       "      <td>Last Activity_Page Visited on Website</td>\n",
       "      <td>1.16</td>\n",
       "    </tr>\n",
       "    <tr>\n",
       "      <th>5</th>\n",
       "      <td>Last Activity_Converted to Lead</td>\n",
       "      <td>1.13</td>\n",
       "    </tr>\n",
       "    <tr>\n",
       "      <th>6</th>\n",
       "      <td>Last Activity_Email Bounced</td>\n",
       "      <td>1.09</td>\n",
       "    </tr>\n",
       "    <tr>\n",
       "      <th>3</th>\n",
       "      <td>Lead Origin_Lead Import</td>\n",
       "      <td>1.02</td>\n",
       "    </tr>\n",
       "  </tbody>\n",
       "</table>\n",
       "</div>"
      ],
      "text/plain": [
       "                                 Features   VIF\n",
       "1                         Lead Origin_API  3.80\n",
       "10      Specialization_Finance Management  2.79\n",
       "4                  Lead Source_Olark Chat  2.47\n",
       "2     Lead Origin_Landing Page Submission  1.74\n",
       "9                  Last Activity_SMS Sent  1.53\n",
       "7   Last Activity_Olark Chat Conversation  1.51\n",
       "0             Total Time Spent on Website  1.24\n",
       "8   Last Activity_Page Visited on Website  1.16\n",
       "5         Last Activity_Converted to Lead  1.13\n",
       "6             Last Activity_Email Bounced  1.09\n",
       "3                 Lead Origin_Lead Import  1.02"
      ]
     },
     "execution_count": 60,
     "metadata": {},
     "output_type": "execute_result"
    }
   ],
   "source": [
    "# Calculate the VIFs for the new model\n",
    "vif_calculator(X_train[col])"
   ]
  },
  {
   "cell_type": "markdown",
   "metadata": {
    "id": "5f79KZD47ysb"
   },
   "source": [
    "___All the VIF values are good and all the p-values are below 0.05. So we can fix model.___"
   ]
  },
  {
   "cell_type": "code",
   "execution_count": 61,
   "metadata": {
    "ExecuteTime": {
     "end_time": "2022-10-17T08:10:55.295878Z",
     "start_time": "2022-10-17T08:10:55.281915Z"
    },
    "colab": {
     "base_uri": "https://localhost:8080/"
    },
    "id": "2EfWKKpr7zZK",
    "outputId": "7a39f12f-cf2b-4d6e-c5f4-e6c702f7e3b3"
   },
   "outputs": [
    {
     "data": {
      "text/plain": [
       "Lead Number\n",
       "609431    0.137100\n",
       "631817    0.055193\n",
       "596164    0.071774\n",
       "646570    0.124669\n",
       "643974    0.036293\n",
       "614268    0.084040\n",
       "633399    0.200722\n",
       "615080    0.556724\n",
       "627916    0.055193\n",
       "622276    0.449069\n",
       "dtype: float64"
      ]
     },
     "execution_count": 61,
     "metadata": {},
     "output_type": "execute_result"
    }
   ],
   "source": [
    "# Predicting the probabilities on the train set\n",
    "y_train_pred = res.predict(X_train_sm)\n",
    "y_train_pred[:10]"
   ]
  },
  {
   "cell_type": "code",
   "execution_count": 62,
   "metadata": {
    "ExecuteTime": {
     "end_time": "2022-10-17T08:10:55.311835Z",
     "start_time": "2022-10-17T08:10:55.296876Z"
    },
    "colab": {
     "base_uri": "https://localhost:8080/"
    },
    "id": "CF5TzWPr8xQJ",
    "outputId": "91d8cc15-9b23-443d-b845-ce8215709eb7"
   },
   "outputs": [
    {
     "data": {
      "text/plain": [
       "array([0.13710049, 0.05519347, 0.0717741 , 0.12466852, 0.03629328,\n",
       "       0.08403977, 0.20072217, 0.5567245 , 0.05519347, 0.44906917])"
      ]
     },
     "execution_count": 62,
     "metadata": {},
     "output_type": "execute_result"
    }
   ],
   "source": [
    "# Reshaping to an array\n",
    "y_train_pred = y_train_pred.values.reshape(-1)\n",
    "y_train_pred[:10]"
   ]
  },
  {
   "cell_type": "code",
   "execution_count": 63,
   "metadata": {
    "ExecuteTime": {
     "end_time": "2022-10-17T08:10:55.326802Z",
     "start_time": "2022-10-17T08:10:55.312834Z"
    },
    "id": "gMeeH0z_8zYZ"
   },
   "outputs": [],
   "source": [
    "# Data frame with given convertion rate and probablity of predicted ones\n",
    "y_train = y_train.values.reshape(-1)\n"
   ]
  },
  {
   "cell_type": "code",
   "execution_count": 64,
   "metadata": {
    "ExecuteTime": {
     "end_time": "2022-10-17T08:10:55.342753Z",
     "start_time": "2022-10-17T08:10:55.328792Z"
    },
    "colab": {
     "base_uri": "https://localhost:8080/"
    },
    "id": "cN2FcZkv9Y-5",
    "outputId": "598db07d-72b4-4d19-ccaa-096e83a76ca1"
   },
   "outputs": [
    {
     "data": {
      "text/plain": [
       "array([0, 0, 0, ..., 0, 0, 0], dtype=int64)"
      ]
     },
     "execution_count": 64,
     "metadata": {},
     "output_type": "execute_result"
    }
   ],
   "source": [
    "y_train"
   ]
  },
  {
   "cell_type": "code",
   "execution_count": 65,
   "metadata": {
    "ExecuteTime": {
     "end_time": "2022-10-17T08:10:55.358717Z",
     "start_time": "2022-10-17T08:10:55.344748Z"
    },
    "colab": {
     "base_uri": "https://localhost:8080/",
     "height": 206
    },
    "id": "mxtfBbQW9bBn",
    "outputId": "69cf78d8-a860-4925-9ade-5b7f848d9ac8"
   },
   "outputs": [
    {
     "data": {
      "text/html": [
       "<div>\n",
       "<style scoped>\n",
       "    .dataframe tbody tr th:only-of-type {\n",
       "        vertical-align: middle;\n",
       "    }\n",
       "\n",
       "    .dataframe tbody tr th {\n",
       "        vertical-align: top;\n",
       "    }\n",
       "\n",
       "    .dataframe thead th {\n",
       "        text-align: right;\n",
       "    }\n",
       "</style>\n",
       "<table border=\"1\" class=\"dataframe\">\n",
       "  <thead>\n",
       "    <tr style=\"text-align: right;\">\n",
       "      <th></th>\n",
       "      <th>Converted</th>\n",
       "      <th>Conversion_Prob</th>\n",
       "    </tr>\n",
       "  </thead>\n",
       "  <tbody>\n",
       "    <tr>\n",
       "      <th>0</th>\n",
       "      <td>0</td>\n",
       "      <td>0.137100</td>\n",
       "    </tr>\n",
       "    <tr>\n",
       "      <th>1</th>\n",
       "      <td>0</td>\n",
       "      <td>0.055193</td>\n",
       "    </tr>\n",
       "    <tr>\n",
       "      <th>2</th>\n",
       "      <td>0</td>\n",
       "      <td>0.071774</td>\n",
       "    </tr>\n",
       "    <tr>\n",
       "      <th>3</th>\n",
       "      <td>0</td>\n",
       "      <td>0.124669</td>\n",
       "    </tr>\n",
       "    <tr>\n",
       "      <th>4</th>\n",
       "      <td>0</td>\n",
       "      <td>0.036293</td>\n",
       "    </tr>\n",
       "  </tbody>\n",
       "</table>\n",
       "</div>"
      ],
      "text/plain": [
       "   Converted  Conversion_Prob\n",
       "0          0         0.137100\n",
       "1          0         0.055193\n",
       "2          0         0.071774\n",
       "3          0         0.124669\n",
       "4          0         0.036293"
      ]
     },
     "execution_count": 65,
     "metadata": {},
     "output_type": "execute_result"
    }
   ],
   "source": [
    "y_train_pred_final = pd.DataFrame({'Converted':y_train, 'Conversion_Prob':y_train_pred})\n",
    "y_train_pred_final.head()"
   ]
  },
  {
   "cell_type": "code",
   "execution_count": 66,
   "metadata": {
    "ExecuteTime": {
     "end_time": "2022-10-17T08:10:55.389627Z",
     "start_time": "2022-10-17T08:10:55.361705Z"
    },
    "colab": {
     "base_uri": "https://localhost:8080/",
     "height": 206
    },
    "id": "-IkpFLoX9mx6",
    "outputId": "134550ec-228f-4e45-86b7-2cc6fa726515"
   },
   "outputs": [
    {
     "data": {
      "text/html": [
       "<div>\n",
       "<style scoped>\n",
       "    .dataframe tbody tr th:only-of-type {\n",
       "        vertical-align: middle;\n",
       "    }\n",
       "\n",
       "    .dataframe tbody tr th {\n",
       "        vertical-align: top;\n",
       "    }\n",
       "\n",
       "    .dataframe thead th {\n",
       "        text-align: right;\n",
       "    }\n",
       "</style>\n",
       "<table border=\"1\" class=\"dataframe\">\n",
       "  <thead>\n",
       "    <tr style=\"text-align: right;\">\n",
       "      <th></th>\n",
       "      <th>Converted</th>\n",
       "      <th>Conversion_Prob</th>\n",
       "      <th>Predicted</th>\n",
       "    </tr>\n",
       "  </thead>\n",
       "  <tbody>\n",
       "    <tr>\n",
       "      <th>0</th>\n",
       "      <td>0</td>\n",
       "      <td>0.137100</td>\n",
       "      <td>0</td>\n",
       "    </tr>\n",
       "    <tr>\n",
       "      <th>1</th>\n",
       "      <td>0</td>\n",
       "      <td>0.055193</td>\n",
       "      <td>0</td>\n",
       "    </tr>\n",
       "    <tr>\n",
       "      <th>2</th>\n",
       "      <td>0</td>\n",
       "      <td>0.071774</td>\n",
       "      <td>0</td>\n",
       "    </tr>\n",
       "    <tr>\n",
       "      <th>3</th>\n",
       "      <td>0</td>\n",
       "      <td>0.124669</td>\n",
       "      <td>0</td>\n",
       "    </tr>\n",
       "    <tr>\n",
       "      <th>4</th>\n",
       "      <td>0</td>\n",
       "      <td>0.036293</td>\n",
       "      <td>0</td>\n",
       "    </tr>\n",
       "  </tbody>\n",
       "</table>\n",
       "</div>"
      ],
      "text/plain": [
       "   Converted  Conversion_Prob  Predicted\n",
       "0          0         0.137100          0\n",
       "1          0         0.055193          0\n",
       "2          0         0.071774          0\n",
       "3          0         0.124669          0\n",
       "4          0         0.036293          0"
      ]
     },
     "execution_count": 66,
     "metadata": {},
     "output_type": "execute_result"
    }
   ],
   "source": [
    "# Substituting 0 or 1 with the cut off as 0.5\n",
    "y_train_pred_final['Predicted'] = y_train_pred_final.Conversion_Prob.map(lambda x: 1 if x > 0.5 else 0)\n",
    "y_train_pred_final.head()"
   ]
  },
  {
   "cell_type": "markdown",
   "metadata": {
    "id": "I2AeIl9d9sOO"
   },
   "source": [
    "### 6. Model Evaluation"
   ]
  },
  {
   "cell_type": "code",
   "execution_count": 67,
   "metadata": {
    "ExecuteTime": {
     "end_time": "2022-10-17T08:10:55.405585Z",
     "start_time": "2022-10-17T08:10:55.390625Z"
    },
    "colab": {
     "base_uri": "https://localhost:8080/"
    },
    "id": "41GIfpSD9wo_",
    "outputId": "7ece9c7c-d720-432e-cc4f-ffb28ac099bb"
   },
   "outputs": [
    {
     "data": {
      "text/plain": [
       "array([[3549,  453],\n",
       "       [ 905, 1561]], dtype=int64)"
      ]
     },
     "execution_count": 67,
     "metadata": {},
     "output_type": "execute_result"
    }
   ],
   "source": [
    "# Creating confusion matrix \n",
    "Confusion = metrics.confusion_matrix(y_train_pred_final.Converted, y_train_pred_final.Predicted )\n",
    "Confusion"
   ]
  },
  {
   "cell_type": "code",
   "execution_count": 68,
   "metadata": {
    "ExecuteTime": {
     "end_time": "2022-10-17T08:10:55.420545Z",
     "start_time": "2022-10-17T08:10:55.406582Z"
    },
    "colab": {
     "base_uri": "https://localhost:8080/"
    },
    "id": "78zVDHzJ91XG",
    "outputId": "b15c80b2-8ade-4ea1-e167-b263ce7a157e"
   },
   "outputs": [
    {
     "data": {
      "text/plain": [
       "0.79004329004329"
      ]
     },
     "execution_count": 68,
     "metadata": {},
     "output_type": "execute_result"
    }
   ],
   "source": [
    "# Check the overall accuracy\n",
    "metrics.accuracy_score(y_train_pred_final.Converted, y_train_pred_final.Predicted)"
   ]
  },
  {
   "cell_type": "code",
   "execution_count": 69,
   "metadata": {
    "ExecuteTime": {
     "end_time": "2022-10-17T08:10:55.436502Z",
     "start_time": "2022-10-17T08:10:55.421542Z"
    },
    "id": "WrZRj7LD-IKo"
   },
   "outputs": [],
   "source": [
    "# Substituting the value of true positive\n",
    "TP = Confusion[1,1]\n",
    "# Substituting the value of true negatives\n",
    "TN = Confusion[0,0]\n",
    "# Substituting the value of false positives\n",
    "FP = Confusion[0,1] \n",
    "# Substituting the value of false negatives\n",
    "FN = Confusion[1,0]"
   ]
  },
  {
   "cell_type": "code",
   "execution_count": 70,
   "metadata": {
    "ExecuteTime": {
     "end_time": "2022-10-17T08:10:55.451465Z",
     "start_time": "2022-10-17T08:10:55.438497Z"
    },
    "colab": {
     "base_uri": "https://localhost:8080/"
    },
    "id": "AEHkMcE9-Jy2",
    "outputId": "9c2e4d01-6f12-44b7-b82e-4822c1fea076"
   },
   "outputs": [
    {
     "data": {
      "text/plain": [
       "0.6330089213300892"
      ]
     },
     "execution_count": 70,
     "metadata": {},
     "output_type": "execute_result"
    }
   ],
   "source": [
    "# Calculating the sensitivity\n",
    "TP/(TP+FN)"
   ]
  },
  {
   "cell_type": "code",
   "execution_count": 71,
   "metadata": {
    "ExecuteTime": {
     "end_time": "2022-10-17T08:10:55.467420Z",
     "start_time": "2022-10-17T08:10:55.453459Z"
    },
    "colab": {
     "base_uri": "https://localhost:8080/"
    },
    "id": "Lujownk_-NWW",
    "outputId": "ff13826f-db0a-47b0-f15a-0f8612d94c1c"
   },
   "outputs": [
    {
     "data": {
      "text/plain": [
       "0.8868065967016492"
      ]
     },
     "execution_count": 71,
     "metadata": {},
     "output_type": "execute_result"
    }
   ],
   "source": [
    "# Calculating the specificity\n",
    "TN/(TN+FP)"
   ]
  },
  {
   "cell_type": "markdown",
   "metadata": {
    "id": "tU0ZTNfb-aQ2"
   },
   "source": [
    "### 7. Optimise Cut off (ROC Curve)\n",
    "The previous cut off was randomely selected. Now to find the optimum one"
   ]
  },
  {
   "cell_type": "code",
   "execution_count": 72,
   "metadata": {
    "ExecuteTime": {
     "end_time": "2022-10-17T08:10:55.483384Z",
     "start_time": "2022-10-17T08:10:55.473412Z"
    },
    "id": "thjRrmnS-d2-"
   },
   "outputs": [],
   "source": [
    "# ROC function\n",
    "def draw_roc( actual, probs ):\n",
    "    fpr, tpr, thresholds = metrics.roc_curve( actual, probs,\n",
    "                                              drop_intermediate = False )\n",
    "    auc_score = metrics.roc_auc_score( actual, probs )\n",
    "    plt.figure(figsize=(5, 5))\n",
    "    plt.plot( fpr, tpr, label='ROC curve (area = %0.2f)' % auc_score )\n",
    "    plt.plot([0, 1], [0, 1], 'k--')\n",
    "    plt.xlim([0.0, 1.0])\n",
    "    plt.ylim([0.0, 1.05])\n",
    "    plt.xlabel('False Positive Rate or [1 - True Negative Rate]')\n",
    "    plt.ylabel('True Positive Rate')\n",
    "    plt.title('Receiver operating characteristic example')\n",
    "    plt.legend(loc=\"lower right\")\n",
    "    plt.show()\n",
    "\n",
    "    return None"
   ]
  },
  {
   "cell_type": "code",
   "execution_count": 73,
   "metadata": {
    "ExecuteTime": {
     "end_time": "2022-10-17T08:10:55.498342Z",
     "start_time": "2022-10-17T08:10:55.486370Z"
    },
    "id": "HWj-ifGb-gMu"
   },
   "outputs": [],
   "source": [
    "fpr, tpr, thresholds = metrics.roc_curve( y_train_pred_final.Converted, y_train_pred_final.Conversion_Prob, drop_intermediate = False )"
   ]
  },
  {
   "cell_type": "code",
   "execution_count": 74,
   "metadata": {
    "ExecuteTime": {
     "end_time": "2022-10-17T08:10:55.705787Z",
     "start_time": "2022-10-17T08:10:55.500332Z"
    },
    "colab": {
     "base_uri": "https://localhost:8080/",
     "height": 355
    },
    "id": "sw-9cFAZ-jQ2",
    "outputId": "1d5aa608-128e-4307-ee26-2a1dfd931e96"
   },
   "outputs": [
    {
     "data": {
      "image/png": "[encoded data removed]",
      "text/plain": [
       "<Figure size 360x360 with 1 Axes>"
      ]
     },
     "metadata": {},
     "output_type": "display_data"
    }
   ],
   "source": [
    "# Call the ROC function\n",
    "draw_roc(y_train_pred_final.Converted, y_train_pred_final.Conversion_Prob)"
   ]
  },
  {
   "cell_type": "markdown",
   "metadata": {
    "id": "K8h5PdZd-tSd"
   },
   "source": [
    "We have good area value of 0.86"
   ]
  },
  {
   "cell_type": "code",
   "execution_count": 75,
   "metadata": {
    "ExecuteTime": {
     "end_time": "2022-10-17T08:10:55.751682Z",
     "start_time": "2022-10-17T08:10:55.707777Z"
    },
    "colab": {
     "base_uri": "https://localhost:8080/",
     "height": 206
    },
    "id": "_zoBDKTY-wxt",
    "outputId": "0f15ddb4-24cd-45c7-9fc8-1ed022cdb0ff"
   },
   "outputs": [
    {
     "data": {
      "text/html": [
       "<div>\n",
       "<style scoped>\n",
       "    .dataframe tbody tr th:only-of-type {\n",
       "        vertical-align: middle;\n",
       "    }\n",
       "\n",
       "    .dataframe tbody tr th {\n",
       "        vertical-align: top;\n",
       "    }\n",
       "\n",
       "    .dataframe thead th {\n",
       "        text-align: right;\n",
       "    }\n",
       "</style>\n",
       "<table border=\"1\" class=\"dataframe\">\n",
       "  <thead>\n",
       "    <tr style=\"text-align: right;\">\n",
       "      <th></th>\n",
       "      <th>Converted</th>\n",
       "      <th>Conversion_Prob</th>\n",
       "      <th>Predicted</th>\n",
       "      <th>0.0</th>\n",
       "      <th>0.1</th>\n",
       "      <th>0.2</th>\n",
       "      <th>0.3</th>\n",
       "      <th>0.4</th>\n",
       "      <th>0.5</th>\n",
       "      <th>0.6</th>\n",
       "      <th>0.7</th>\n",
       "      <th>0.8</th>\n",
       "      <th>0.9</th>\n",
       "    </tr>\n",
       "  </thead>\n",
       "  <tbody>\n",
       "    <tr>\n",
       "      <th>0</th>\n",
       "      <td>0</td>\n",
       "      <td>0.137100</td>\n",
       "      <td>0</td>\n",
       "      <td>1</td>\n",
       "      <td>1</td>\n",
       "      <td>0</td>\n",
       "      <td>0</td>\n",
       "      <td>0</td>\n",
       "      <td>0</td>\n",
       "      <td>0</td>\n",
       "      <td>0</td>\n",
       "      <td>0</td>\n",
       "      <td>0</td>\n",
       "    </tr>\n",
       "    <tr>\n",
       "      <th>1</th>\n",
       "      <td>0</td>\n",
       "      <td>0.055193</td>\n",
       "      <td>0</td>\n",
       "      <td>1</td>\n",
       "      <td>0</td>\n",
       "      <td>0</td>\n",
       "      <td>0</td>\n",
       "      <td>0</td>\n",
       "      <td>0</td>\n",
       "      <td>0</td>\n",
       "      <td>0</td>\n",
       "      <td>0</td>\n",
       "      <td>0</td>\n",
       "    </tr>\n",
       "    <tr>\n",
       "      <th>2</th>\n",
       "      <td>0</td>\n",
       "      <td>0.071774</td>\n",
       "      <td>0</td>\n",
       "      <td>1</td>\n",
       "      <td>0</td>\n",
       "      <td>0</td>\n",
       "      <td>0</td>\n",
       "      <td>0</td>\n",
       "      <td>0</td>\n",
       "      <td>0</td>\n",
       "      <td>0</td>\n",
       "      <td>0</td>\n",
       "      <td>0</td>\n",
       "    </tr>\n",
       "    <tr>\n",
       "      <th>3</th>\n",
       "      <td>0</td>\n",
       "      <td>0.124669</td>\n",
       "      <td>0</td>\n",
       "      <td>1</td>\n",
       "      <td>1</td>\n",
       "      <td>0</td>\n",
       "      <td>0</td>\n",
       "      <td>0</td>\n",
       "      <td>0</td>\n",
       "      <td>0</td>\n",
       "      <td>0</td>\n",
       "      <td>0</td>\n",
       "      <td>0</td>\n",
       "    </tr>\n",
       "    <tr>\n",
       "      <th>4</th>\n",
       "      <td>0</td>\n",
       "      <td>0.036293</td>\n",
       "      <td>0</td>\n",
       "      <td>1</td>\n",
       "      <td>0</td>\n",
       "      <td>0</td>\n",
       "      <td>0</td>\n",
       "      <td>0</td>\n",
       "      <td>0</td>\n",
       "      <td>0</td>\n",
       "      <td>0</td>\n",
       "      <td>0</td>\n",
       "      <td>0</td>\n",
       "    </tr>\n",
       "  </tbody>\n",
       "</table>\n",
       "</div>"
      ],
      "text/plain": [
       "   Converted  Conversion_Prob  Predicted  0.0  0.1  0.2  0.3  0.4  0.5  0.6  \\\n",
       "0          0         0.137100          0    1    1    0    0    0    0    0   \n",
       "1          0         0.055193          0    1    0    0    0    0    0    0   \n",
       "2          0         0.071774          0    1    0    0    0    0    0    0   \n",
       "3          0         0.124669          0    1    1    0    0    0    0    0   \n",
       "4          0         0.036293          0    1    0    0    0    0    0    0   \n",
       "\n",
       "   0.7  0.8  0.9  \n",
       "0    0    0    0  \n",
       "1    0    0    0  \n",
       "2    0    0    0  \n",
       "3    0    0    0  \n",
       "4    0    0    0  "
      ]
     },
     "execution_count": 75,
     "metadata": {},
     "output_type": "execute_result"
    }
   ],
   "source": [
    "# Creating columns with different probability cutoffs \n",
    "numbers = [float(x)/10 for x in range(10)]\n",
    "for i in numbers:\n",
    "    y_train_pred_final[i]= y_train_pred_final.Conversion_Prob.map(lambda x: 1 if x > i else 0)\n",
    "y_train_pred_final.head()"
   ]
  },
  {
   "cell_type": "code",
   "execution_count": 76,
   "metadata": {
    "ExecuteTime": {
     "end_time": "2022-10-17T08:10:55.844945Z",
     "start_time": "2022-10-17T08:10:55.752680Z"
    },
    "colab": {
     "base_uri": "https://localhost:8080/",
     "height": 363
    },
    "id": "fssVU0fu-3X4",
    "outputId": "2531301f-8e59-4bec-dd5f-878bd7e79659"
   },
   "outputs": [
    {
     "data": {
      "text/html": [
       "<div>\n",
       "<style scoped>\n",
       "    .dataframe tbody tr th:only-of-type {\n",
       "        vertical-align: middle;\n",
       "    }\n",
       "\n",
       "    .dataframe tbody tr th {\n",
       "        vertical-align: top;\n",
       "    }\n",
       "\n",
       "    .dataframe thead th {\n",
       "        text-align: right;\n",
       "    }\n",
       "</style>\n",
       "<table border=\"1\" class=\"dataframe\">\n",
       "  <thead>\n",
       "    <tr style=\"text-align: right;\">\n",
       "      <th></th>\n",
       "      <th>prob</th>\n",
       "      <th>accuracy</th>\n",
       "      <th>sensi</th>\n",
       "      <th>speci</th>\n",
       "    </tr>\n",
       "  </thead>\n",
       "  <tbody>\n",
       "    <tr>\n",
       "      <th>0.0</th>\n",
       "      <td>0.0</td>\n",
       "      <td>0.381262</td>\n",
       "      <td>1.000000</td>\n",
       "      <td>0.000000</td>\n",
       "    </tr>\n",
       "    <tr>\n",
       "      <th>0.1</th>\n",
       "      <td>0.1</td>\n",
       "      <td>0.561688</td>\n",
       "      <td>0.974453</td>\n",
       "      <td>0.307346</td>\n",
       "    </tr>\n",
       "    <tr>\n",
       "      <th>0.2</th>\n",
       "      <td>0.2</td>\n",
       "      <td>0.697897</td>\n",
       "      <td>0.916869</td>\n",
       "      <td>0.562969</td>\n",
       "    </tr>\n",
       "    <tr>\n",
       "      <th>0.3</th>\n",
       "      <td>0.3</td>\n",
       "      <td>0.778293</td>\n",
       "      <td>0.832522</td>\n",
       "      <td>0.744878</td>\n",
       "    </tr>\n",
       "    <tr>\n",
       "      <th>0.4</th>\n",
       "      <td>0.4</td>\n",
       "      <td>0.800557</td>\n",
       "      <td>0.754663</td>\n",
       "      <td>0.828836</td>\n",
       "    </tr>\n",
       "    <tr>\n",
       "      <th>0.5</th>\n",
       "      <td>0.5</td>\n",
       "      <td>0.790043</td>\n",
       "      <td>0.633009</td>\n",
       "      <td>0.886807</td>\n",
       "    </tr>\n",
       "    <tr>\n",
       "      <th>0.6</th>\n",
       "      <td>0.6</td>\n",
       "      <td>0.777675</td>\n",
       "      <td>0.553933</td>\n",
       "      <td>0.915542</td>\n",
       "    </tr>\n",
       "    <tr>\n",
       "      <th>0.7</th>\n",
       "      <td>0.7</td>\n",
       "      <td>0.756648</td>\n",
       "      <td>0.454582</td>\n",
       "      <td>0.942779</td>\n",
       "    </tr>\n",
       "    <tr>\n",
       "      <th>0.8</th>\n",
       "      <td>0.8</td>\n",
       "      <td>0.730983</td>\n",
       "      <td>0.352798</td>\n",
       "      <td>0.964018</td>\n",
       "    </tr>\n",
       "    <tr>\n",
       "      <th>0.9</th>\n",
       "      <td>0.9</td>\n",
       "      <td>0.674706</td>\n",
       "      <td>0.167478</td>\n",
       "      <td>0.987256</td>\n",
       "    </tr>\n",
       "  </tbody>\n",
       "</table>\n",
       "</div>"
      ],
      "text/plain": [
       "     prob  accuracy     sensi     speci\n",
       "0.0   0.0  0.381262  1.000000  0.000000\n",
       "0.1   0.1  0.561688  0.974453  0.307346\n",
       "0.2   0.2  0.697897  0.916869  0.562969\n",
       "0.3   0.3  0.778293  0.832522  0.744878\n",
       "0.4   0.4  0.800557  0.754663  0.828836\n",
       "0.5   0.5  0.790043  0.633009  0.886807\n",
       "0.6   0.6  0.777675  0.553933  0.915542\n",
       "0.7   0.7  0.756648  0.454582  0.942779\n",
       "0.8   0.8  0.730983  0.352798  0.964018\n",
       "0.9   0.9  0.674706  0.167478  0.987256"
      ]
     },
     "execution_count": 76,
     "metadata": {},
     "output_type": "execute_result"
    }
   ],
   "source": [
    "# Creating a dataframe to see the values of accuracy, sensitivity, and specificity at different values of probabiity cutoffs\n",
    "cutoff_df = pd.DataFrame( columns = ['prob','accuracy','sensi','speci'])\n",
    "# Making confusing matrix to find values of sensitivity, accurace and specificity for each level of probablity\n",
    "from sklearn.metrics import confusion_matrix\n",
    "num = [0.0,0.1,0.2,0.3,0.4,0.5,0.6,0.7,0.8,0.9]\n",
    "for i in num:\n",
    "    cm1 = metrics.confusion_matrix(y_train_pred_final.Converted, y_train_pred_final[i] )\n",
    "    total1=sum(sum(cm1))\n",
    "    accuracy = (cm1[0,0]+cm1[1,1])/total1\n",
    "    \n",
    "    speci = cm1[0,0]/(cm1[0,0]+cm1[0,1])\n",
    "    sensi = cm1[1,1]/(cm1[1,0]+cm1[1,1])\n",
    "    cutoff_df.loc[i] =[ i ,accuracy,sensi,speci]\n",
    "cutoff_df"
   ]
  },
  {
   "cell_type": "code",
   "execution_count": 77,
   "metadata": {
    "ExecuteTime": {
     "end_time": "2022-10-17T08:10:56.076829Z",
     "start_time": "2022-10-17T08:10:55.846937Z"
    },
    "colab": {
     "base_uri": "https://localhost:8080/",
     "height": 285
    },
    "id": "7hPLZC1d_A5s",
    "outputId": "8f06626b-c1ec-4f9c-9957-8236b01ae8ad"
   },
   "outputs": [
    {
     "data": {
      "image/png": "[encoded data removed]",
      "text/plain": [
       "<Figure size 432x288 with 1 Axes>"
      ]
     },
     "metadata": {},
     "output_type": "display_data"
    }
   ],
   "source": [
    "# Plotting it\n",
    "cutoff_df.plot.line(x='prob', y=['accuracy','sensi','speci'])\n",
    "plt.show()"
   ]
  },
  {
   "cell_type": "markdown",
   "metadata": {
    "id": "c4y__xoz_an_"
   },
   "source": [
    "From the graph we can see that the optimal cut off is 0.35"
   ]
  },
  {
   "cell_type": "code",
   "execution_count": 78,
   "metadata": {
    "ExecuteTime": {
     "end_time": "2022-10-17T08:10:56.108750Z",
     "start_time": "2022-10-17T08:10:56.078824Z"
    },
    "colab": {
     "base_uri": "https://localhost:8080/",
     "height": 206
    },
    "id": "TV19zQL2_lBk",
    "outputId": "7c76a974-9a4e-4a4c-fe90-44a8e884764a"
   },
   "outputs": [
    {
     "data": {
      "text/html": [
       "<div>\n",
       "<style scoped>\n",
       "    .dataframe tbody tr th:only-of-type {\n",
       "        vertical-align: middle;\n",
       "    }\n",
       "\n",
       "    .dataframe tbody tr th {\n",
       "        vertical-align: top;\n",
       "    }\n",
       "\n",
       "    .dataframe thead th {\n",
       "        text-align: right;\n",
       "    }\n",
       "</style>\n",
       "<table border=\"1\" class=\"dataframe\">\n",
       "  <thead>\n",
       "    <tr style=\"text-align: right;\">\n",
       "      <th></th>\n",
       "      <th>Converted</th>\n",
       "      <th>Conversion_Prob</th>\n",
       "      <th>Predicted</th>\n",
       "      <th>0.0</th>\n",
       "      <th>0.1</th>\n",
       "      <th>0.2</th>\n",
       "      <th>0.3</th>\n",
       "      <th>0.4</th>\n",
       "      <th>0.5</th>\n",
       "      <th>0.6</th>\n",
       "      <th>0.7</th>\n",
       "      <th>0.8</th>\n",
       "      <th>0.9</th>\n",
       "      <th>final_predicted</th>\n",
       "    </tr>\n",
       "  </thead>\n",
       "  <tbody>\n",
       "    <tr>\n",
       "      <th>0</th>\n",
       "      <td>0</td>\n",
       "      <td>0.137100</td>\n",
       "      <td>0</td>\n",
       "      <td>1</td>\n",
       "      <td>1</td>\n",
       "      <td>0</td>\n",
       "      <td>0</td>\n",
       "      <td>0</td>\n",
       "      <td>0</td>\n",
       "      <td>0</td>\n",
       "      <td>0</td>\n",
       "      <td>0</td>\n",
       "      <td>0</td>\n",
       "      <td>0</td>\n",
       "    </tr>\n",
       "    <tr>\n",
       "      <th>1</th>\n",
       "      <td>0</td>\n",
       "      <td>0.055193</td>\n",
       "      <td>0</td>\n",
       "      <td>1</td>\n",
       "      <td>0</td>\n",
       "      <td>0</td>\n",
       "      <td>0</td>\n",
       "      <td>0</td>\n",
       "      <td>0</td>\n",
       "      <td>0</td>\n",
       "      <td>0</td>\n",
       "      <td>0</td>\n",
       "      <td>0</td>\n",
       "      <td>0</td>\n",
       "    </tr>\n",
       "    <tr>\n",
       "      <th>2</th>\n",
       "      <td>0</td>\n",
       "      <td>0.071774</td>\n",
       "      <td>0</td>\n",
       "      <td>1</td>\n",
       "      <td>0</td>\n",
       "      <td>0</td>\n",
       "      <td>0</td>\n",
       "      <td>0</td>\n",
       "      <td>0</td>\n",
       "      <td>0</td>\n",
       "      <td>0</td>\n",
       "      <td>0</td>\n",
       "      <td>0</td>\n",
       "      <td>0</td>\n",
       "    </tr>\n",
       "    <tr>\n",
       "      <th>3</th>\n",
       "      <td>0</td>\n",
       "      <td>0.124669</td>\n",
       "      <td>0</td>\n",
       "      <td>1</td>\n",
       "      <td>1</td>\n",
       "      <td>0</td>\n",
       "      <td>0</td>\n",
       "      <td>0</td>\n",
       "      <td>0</td>\n",
       "      <td>0</td>\n",
       "      <td>0</td>\n",
       "      <td>0</td>\n",
       "      <td>0</td>\n",
       "      <td>0</td>\n",
       "    </tr>\n",
       "    <tr>\n",
       "      <th>4</th>\n",
       "      <td>0</td>\n",
       "      <td>0.036293</td>\n",
       "      <td>0</td>\n",
       "      <td>1</td>\n",
       "      <td>0</td>\n",
       "      <td>0</td>\n",
       "      <td>0</td>\n",
       "      <td>0</td>\n",
       "      <td>0</td>\n",
       "      <td>0</td>\n",
       "      <td>0</td>\n",
       "      <td>0</td>\n",
       "      <td>0</td>\n",
       "      <td>0</td>\n",
       "    </tr>\n",
       "  </tbody>\n",
       "</table>\n",
       "</div>"
      ],
      "text/plain": [
       "   Converted  Conversion_Prob  Predicted  0.0  0.1  0.2  0.3  0.4  0.5  0.6  \\\n",
       "0          0         0.137100          0    1    1    0    0    0    0    0   \n",
       "1          0         0.055193          0    1    0    0    0    0    0    0   \n",
       "2          0         0.071774          0    1    0    0    0    0    0    0   \n",
       "3          0         0.124669          0    1    1    0    0    0    0    0   \n",
       "4          0         0.036293          0    1    0    0    0    0    0    0   \n",
       "\n",
       "   0.7  0.8  0.9  final_predicted  \n",
       "0    0    0    0                0  \n",
       "1    0    0    0                0  \n",
       "2    0    0    0                0  \n",
       "3    0    0    0                0  \n",
       "4    0    0    0                0  "
      ]
     },
     "execution_count": 78,
     "metadata": {},
     "output_type": "execute_result"
    }
   ],
   "source": [
    "y_train_pred_final['final_predicted'] = y_train_pred_final.Conversion_Prob.map( lambda x: 1 if x > 0.35 else 0)\n",
    "y_train_pred_final.head()"
   ]
  },
  {
   "cell_type": "code",
   "execution_count": 79,
   "metadata": {
    "ExecuteTime": {
     "end_time": "2022-10-17T08:10:56.124700Z",
     "start_time": "2022-10-17T08:10:56.111737Z"
    },
    "colab": {
     "base_uri": "https://localhost:8080/"
    },
    "id": "lTqBlBAA_oV0",
    "outputId": "199ca796-5b39-4db3-a08a-fe4008b6a3fa"
   },
   "outputs": [
    {
     "data": {
      "text/plain": [
       "0.7925170068027211"
      ]
     },
     "execution_count": 79,
     "metadata": {},
     "output_type": "execute_result"
    }
   ],
   "source": [
    "# Check the overall accuracy\n",
    "metrics.accuracy_score(y_train_pred_final.Converted, y_train_pred_final.final_predicted)"
   ]
  },
  {
   "cell_type": "code",
   "execution_count": 80,
   "metadata": {
    "ExecuteTime": {
     "end_time": "2022-10-17T08:10:56.140674Z",
     "start_time": "2022-10-17T08:10:56.125698Z"
    },
    "colab": {
     "base_uri": "https://localhost:8080/"
    },
    "id": "QrO9naEs_rfj",
    "outputId": "998d7ab8-b6dd-492f-b7d7-5bb09595ed4d"
   },
   "outputs": [
    {
     "data": {
      "text/plain": [
       "array([[3179,  823],\n",
       "       [ 519, 1947]], dtype=int64)"
      ]
     },
     "execution_count": 80,
     "metadata": {},
     "output_type": "execute_result"
    }
   ],
   "source": [
    "# Creating confusion matrix \n",
    "Confusion2 = metrics.confusion_matrix(y_train_pred_final.Converted, y_train_pred_final.final_predicted )\n",
    "Confusion2"
   ]
  },
  {
   "cell_type": "code",
   "execution_count": 81,
   "metadata": {
    "ExecuteTime": {
     "end_time": "2022-10-17T08:10:56.156621Z",
     "start_time": "2022-10-17T08:10:56.143660Z"
    },
    "id": "w9WpE7Xn_wl0"
   },
   "outputs": [],
   "source": [
    "# Substituting the value of true positive\n",
    "TP = Confusion2[1,1]\n",
    "# Substituting the value of true negatives\n",
    "TN = Confusion2[0,0]\n",
    "# Substituting the value of false positives\n",
    "FP = Confusion2[0,1] \n",
    "# Substituting the value of false negatives\n",
    "FN = Confusion2[1,0]"
   ]
  },
  {
   "cell_type": "code",
   "execution_count": 82,
   "metadata": {
    "ExecuteTime": {
     "end_time": "2022-10-17T08:10:56.172582Z",
     "start_time": "2022-10-17T08:10:56.157619Z"
    },
    "colab": {
     "base_uri": "https://localhost:8080/"
    },
    "id": "XQ8SyrF1_xqb",
    "outputId": "7936384d-f287-430a-e44e-204a36050345"
   },
   "outputs": [
    {
     "data": {
      "text/plain": [
       "0.7895377128953771"
      ]
     },
     "execution_count": 82,
     "metadata": {},
     "output_type": "execute_result"
    }
   ],
   "source": [
    "# Calculating the sensitivity\n",
    "TP/(TP+FN)"
   ]
  },
  {
   "cell_type": "code",
   "execution_count": 83,
   "metadata": {
    "ExecuteTime": {
     "end_time": "2022-10-17T08:10:56.188536Z",
     "start_time": "2022-10-17T08:10:56.175573Z"
    },
    "colab": {
     "base_uri": "https://localhost:8080/"
    },
    "id": "J3TKsVan_zlV",
    "outputId": "3785cec3-9fbc-4491-8dca-7e5cd37d511d"
   },
   "outputs": [
    {
     "data": {
      "text/plain": [
       "0.7943528235882059"
      ]
     },
     "execution_count": 83,
     "metadata": {},
     "output_type": "execute_result"
    }
   ],
   "source": [
    "# Calculating the specificity\n",
    "TN/(TN+FP)"
   ]
  },
  {
   "cell_type": "markdown",
   "metadata": {
    "id": "P_7sc4qk_931"
   },
   "source": [
    "### Making Prediction on test set"
   ]
  },
  {
   "cell_type": "code",
   "execution_count": 84,
   "metadata": {
    "ExecuteTime": {
     "end_time": "2022-10-17T08:10:56.204497Z",
     "start_time": "2022-10-17T08:10:56.192527Z"
    },
    "id": "h1STEXjjAAD8"
   },
   "outputs": [],
   "source": [
    "X_test[['Total Time Spent on Website','Page Views Per Visit','TotalVisits']]=scaler.transform(X_test[['Total Time Spent on Website','Page Views Per Visit','TotalVisits']])"
   ]
  },
  {
   "cell_type": "code",
   "execution_count": 85,
   "metadata": {
    "ExecuteTime": {
     "end_time": "2022-10-17T08:10:56.220451Z",
     "start_time": "2022-10-17T08:10:56.207484Z"
    },
    "colab": {
     "base_uri": "https://localhost:8080/"
    },
    "id": "wTMgkbuTF_OY",
    "outputId": "551b8cfa-3a33-43c9-b504-391a8a7aa1b2"
   },
   "outputs": [
    {
     "data": {
      "text/plain": [
       "Index(['Total Time Spent on Website', 'Lead Origin_API',\n",
       "       'Lead Origin_Landing Page Submission', 'Lead Origin_Lead Import',\n",
       "       'Lead Source_Olark Chat', 'Last Activity_Converted to Lead',\n",
       "       'Last Activity_Email Bounced', 'Last Activity_Olark Chat Conversation',\n",
       "       'Last Activity_Page Visited on Website', 'Last Activity_SMS Sent',\n",
       "       'Specialization_Finance Management'],\n",
       "      dtype='object')"
      ]
     },
     "execution_count": 85,
     "metadata": {},
     "output_type": "execute_result"
    }
   ],
   "source": [
    "col"
   ]
  },
  {
   "cell_type": "code",
   "execution_count": 86,
   "metadata": {
    "ExecuteTime": {
     "end_time": "2022-10-17T08:10:56.235410Z",
     "start_time": "2022-10-17T08:10:56.221449Z"
    },
    "id": "QQ4xKzsAGp54"
   },
   "outputs": [],
   "source": [
    "# Select the columns in X_train for X_test as well\n",
    "X_test = X_test[col]"
   ]
  },
  {
   "cell_type": "code",
   "execution_count": 87,
   "metadata": {
    "ExecuteTime": {
     "end_time": "2022-10-17T08:10:56.265330Z",
     "start_time": "2022-10-17T08:10:56.238405Z"
    },
    "colab": {
     "base_uri": "https://localhost:8080/",
     "height": 588
    },
    "id": "NvoP2EvNGxW3",
    "outputId": "30d7d224-7b46-4d8a-c15a-9cc77638c360"
   },
   "outputs": [
    {
     "data": {
      "text/html": [
       "<div>\n",
       "<style scoped>\n",
       "    .dataframe tbody tr th:only-of-type {\n",
       "        vertical-align: middle;\n",
       "    }\n",
       "\n",
       "    .dataframe tbody tr th {\n",
       "        vertical-align: top;\n",
       "    }\n",
       "\n",
       "    .dataframe thead th {\n",
       "        text-align: right;\n",
       "    }\n",
       "</style>\n",
       "<table border=\"1\" class=\"dataframe\">\n",
       "  <thead>\n",
       "    <tr style=\"text-align: right;\">\n",
       "      <th></th>\n",
       "      <th>Total Time Spent on Website</th>\n",
       "      <th>Lead Origin_API</th>\n",
       "      <th>Lead Origin_Landing Page Submission</th>\n",
       "      <th>Lead Origin_Lead Import</th>\n",
       "      <th>Lead Source_Olark Chat</th>\n",
       "      <th>Last Activity_Converted to Lead</th>\n",
       "      <th>Last Activity_Email Bounced</th>\n",
       "      <th>Last Activity_Olark Chat Conversation</th>\n",
       "      <th>Last Activity_Page Visited on Website</th>\n",
       "      <th>Last Activity_SMS Sent</th>\n",
       "      <th>Specialization_Finance Management</th>\n",
       "    </tr>\n",
       "    <tr>\n",
       "      <th>Lead Number</th>\n",
       "      <th></th>\n",
       "      <th></th>\n",
       "      <th></th>\n",
       "      <th></th>\n",
       "      <th></th>\n",
       "      <th></th>\n",
       "      <th></th>\n",
       "      <th></th>\n",
       "      <th></th>\n",
       "      <th></th>\n",
       "      <th></th>\n",
       "    </tr>\n",
       "  </thead>\n",
       "  <tbody>\n",
       "    <tr>\n",
       "      <th>639211</th>\n",
       "      <td>-0.886868</td>\n",
       "      <td>0</td>\n",
       "      <td>0</td>\n",
       "      <td>0</td>\n",
       "      <td>0</td>\n",
       "      <td>0</td>\n",
       "      <td>0</td>\n",
       "      <td>0</td>\n",
       "      <td>0</td>\n",
       "      <td>0</td>\n",
       "      <td>0</td>\n",
       "    </tr>\n",
       "    <tr>\n",
       "      <th>590711</th>\n",
       "      <td>1.875759</td>\n",
       "      <td>0</td>\n",
       "      <td>1</td>\n",
       "      <td>0</td>\n",
       "      <td>0</td>\n",
       "      <td>0</td>\n",
       "      <td>0</td>\n",
       "      <td>0</td>\n",
       "      <td>0</td>\n",
       "      <td>1</td>\n",
       "      <td>0</td>\n",
       "    </tr>\n",
       "    <tr>\n",
       "      <th>644174</th>\n",
       "      <td>0.995321</td>\n",
       "      <td>0</td>\n",
       "      <td>1</td>\n",
       "      <td>0</td>\n",
       "      <td>0</td>\n",
       "      <td>0</td>\n",
       "      <td>0</td>\n",
       "      <td>0</td>\n",
       "      <td>0</td>\n",
       "      <td>0</td>\n",
       "      <td>0</td>\n",
       "    </tr>\n",
       "    <tr>\n",
       "      <th>641392</th>\n",
       "      <td>-0.544986</td>\n",
       "      <td>0</td>\n",
       "      <td>1</td>\n",
       "      <td>0</td>\n",
       "      <td>0</td>\n",
       "      <td>0</td>\n",
       "      <td>0</td>\n",
       "      <td>0</td>\n",
       "      <td>0</td>\n",
       "      <td>1</td>\n",
       "      <td>1</td>\n",
       "    </tr>\n",
       "    <tr>\n",
       "      <th>587955</th>\n",
       "      <td>2.283811</td>\n",
       "      <td>1</td>\n",
       "      <td>0</td>\n",
       "      <td>0</td>\n",
       "      <td>0</td>\n",
       "      <td>0</td>\n",
       "      <td>0</td>\n",
       "      <td>0</td>\n",
       "      <td>0</td>\n",
       "      <td>0</td>\n",
       "      <td>1</td>\n",
       "    </tr>\n",
       "    <tr>\n",
       "      <th>...</th>\n",
       "      <td>...</td>\n",
       "      <td>...</td>\n",
       "      <td>...</td>\n",
       "      <td>...</td>\n",
       "      <td>...</td>\n",
       "      <td>...</td>\n",
       "      <td>...</td>\n",
       "      <td>...</td>\n",
       "      <td>...</td>\n",
       "      <td>...</td>\n",
       "      <td>...</td>\n",
       "    </tr>\n",
       "    <tr>\n",
       "      <th>635799</th>\n",
       "      <td>-0.392426</td>\n",
       "      <td>0</td>\n",
       "      <td>1</td>\n",
       "      <td>0</td>\n",
       "      <td>0</td>\n",
       "      <td>0</td>\n",
       "      <td>0</td>\n",
       "      <td>0</td>\n",
       "      <td>0</td>\n",
       "      <td>0</td>\n",
       "      <td>0</td>\n",
       "    </tr>\n",
       "    <tr>\n",
       "      <th>613541</th>\n",
       "      <td>-0.168181</td>\n",
       "      <td>0</td>\n",
       "      <td>1</td>\n",
       "      <td>0</td>\n",
       "      <td>0</td>\n",
       "      <td>0</td>\n",
       "      <td>0</td>\n",
       "      <td>0</td>\n",
       "      <td>1</td>\n",
       "      <td>0</td>\n",
       "      <td>0</td>\n",
       "    </tr>\n",
       "    <tr>\n",
       "      <th>589735</th>\n",
       "      <td>-0.886868</td>\n",
       "      <td>1</td>\n",
       "      <td>0</td>\n",
       "      <td>0</td>\n",
       "      <td>1</td>\n",
       "      <td>0</td>\n",
       "      <td>0</td>\n",
       "      <td>0</td>\n",
       "      <td>0</td>\n",
       "      <td>0</td>\n",
       "      <td>0</td>\n",
       "    </tr>\n",
       "    <tr>\n",
       "      <th>631053</th>\n",
       "      <td>-0.862973</td>\n",
       "      <td>1</td>\n",
       "      <td>0</td>\n",
       "      <td>0</td>\n",
       "      <td>0</td>\n",
       "      <td>0</td>\n",
       "      <td>0</td>\n",
       "      <td>0</td>\n",
       "      <td>0</td>\n",
       "      <td>0</td>\n",
       "      <td>1</td>\n",
       "    </tr>\n",
       "    <tr>\n",
       "      <th>590924</th>\n",
       "      <td>-0.886868</td>\n",
       "      <td>1</td>\n",
       "      <td>0</td>\n",
       "      <td>0</td>\n",
       "      <td>1</td>\n",
       "      <td>0</td>\n",
       "      <td>0</td>\n",
       "      <td>0</td>\n",
       "      <td>0</td>\n",
       "      <td>0</td>\n",
       "      <td>1</td>\n",
       "    </tr>\n",
       "  </tbody>\n",
       "</table>\n",
       "<p>2772 rows × 11 columns</p>\n",
       "</div>"
      ],
      "text/plain": [
       "             Total Time Spent on Website  Lead Origin_API  \\\n",
       "Lead Number                                                 \n",
       "639211                         -0.886868                0   \n",
       "590711                          1.875759                0   \n",
       "644174                          0.995321                0   \n",
       "641392                         -0.544986                0   \n",
       "587955                          2.283811                1   \n",
       "...                                  ...              ...   \n",
       "635799                         -0.392426                0   \n",
       "613541                         -0.168181                0   \n",
       "589735                         -0.886868                1   \n",
       "631053                         -0.862973                1   \n",
       "590924                         -0.886868                1   \n",
       "\n",
       "             Lead Origin_Landing Page Submission  Lead Origin_Lead Import  \\\n",
       "Lead Number                                                                 \n",
       "639211                                         0                        0   \n",
       "590711                                         1                        0   \n",
       "644174                                         1                        0   \n",
       "641392                                         1                        0   \n",
       "587955                                         0                        0   \n",
       "...                                          ...                      ...   \n",
       "635799                                         1                        0   \n",
       "613541                                         1                        0   \n",
       "589735                                         0                        0   \n",
       "631053                                         0                        0   \n",
       "590924                                         0                        0   \n",
       "\n",
       "             Lead Source_Olark Chat  Last Activity_Converted to Lead  \\\n",
       "Lead Number                                                            \n",
       "639211                            0                                0   \n",
       "590711                            0                                0   \n",
       "644174                            0                                0   \n",
       "641392                            0                                0   \n",
       "587955                            0                                0   \n",
       "...                             ...                              ...   \n",
       "635799                            0                                0   \n",
       "613541                            0                                0   \n",
       "589735                            1                                0   \n",
       "631053                            0                                0   \n",
       "590924                            1                                0   \n",
       "\n",
       "             Last Activity_Email Bounced  \\\n",
       "Lead Number                                \n",
       "639211                                 0   \n",
       "590711                                 0   \n",
       "644174                                 0   \n",
       "641392                                 0   \n",
       "587955                                 0   \n",
       "...                                  ...   \n",
       "635799                                 0   \n",
       "613541                                 0   \n",
       "589735                                 0   \n",
       "631053                                 0   \n",
       "590924                                 0   \n",
       "\n",
       "             Last Activity_Olark Chat Conversation  \\\n",
       "Lead Number                                          \n",
       "639211                                           0   \n",
       "590711                                           0   \n",
       "644174                                           0   \n",
       "641392                                           0   \n",
       "587955                                           0   \n",
       "...                                            ...   \n",
       "635799                                           0   \n",
       "613541                                           0   \n",
       "589735                                           0   \n",
       "631053                                           0   \n",
       "590924                                           0   \n",
       "\n",
       "             Last Activity_Page Visited on Website  Last Activity_SMS Sent  \\\n",
       "Lead Number                                                                  \n",
       "639211                                           0                       0   \n",
       "590711                                           0                       1   \n",
       "644174                                           0                       0   \n",
       "641392                                           0                       1   \n",
       "587955                                           0                       0   \n",
       "...                                            ...                     ...   \n",
       "635799                                           0                       0   \n",
       "613541                                           1                       0   \n",
       "589735                                           0                       0   \n",
       "631053                                           0                       0   \n",
       "590924                                           0                       0   \n",
       "\n",
       "             Specialization_Finance Management  \n",
       "Lead Number                                     \n",
       "639211                                       0  \n",
       "590711                                       0  \n",
       "644174                                       0  \n",
       "641392                                       1  \n",
       "587955                                       1  \n",
       "...                                        ...  \n",
       "635799                                       0  \n",
       "613541                                       0  \n",
       "589735                                       0  \n",
       "631053                                       1  \n",
       "590924                                       1  \n",
       "\n",
       "[2772 rows x 11 columns]"
      ]
     },
     "execution_count": 87,
     "metadata": {},
     "output_type": "execute_result"
    }
   ],
   "source": [
    "X_test"
   ]
  },
  {
   "cell_type": "code",
   "execution_count": 88,
   "metadata": {
    "ExecuteTime": {
     "end_time": "2022-10-17T08:10:56.297245Z",
     "start_time": "2022-10-17T08:10:56.268327Z"
    },
    "colab": {
     "base_uri": "https://localhost:8080/",
     "height": 588
    },
    "id": "qzGkqAMlGzdX",
    "outputId": "69fee905-7d61-4c53-9d3b-6280f21ace11"
   },
   "outputs": [
    {
     "data": {
      "text/html": [
       "<div>\n",
       "<style scoped>\n",
       "    .dataframe tbody tr th:only-of-type {\n",
       "        vertical-align: middle;\n",
       "    }\n",
       "\n",
       "    .dataframe tbody tr th {\n",
       "        vertical-align: top;\n",
       "    }\n",
       "\n",
       "    .dataframe thead th {\n",
       "        text-align: right;\n",
       "    }\n",
       "</style>\n",
       "<table border=\"1\" class=\"dataframe\">\n",
       "  <thead>\n",
       "    <tr style=\"text-align: right;\">\n",
       "      <th></th>\n",
       "      <th>const</th>\n",
       "      <th>Total Time Spent on Website</th>\n",
       "      <th>Lead Origin_API</th>\n",
       "      <th>Lead Origin_Landing Page Submission</th>\n",
       "      <th>Lead Origin_Lead Import</th>\n",
       "      <th>Lead Source_Olark Chat</th>\n",
       "      <th>Last Activity_Converted to Lead</th>\n",
       "      <th>Last Activity_Email Bounced</th>\n",
       "      <th>Last Activity_Olark Chat Conversation</th>\n",
       "      <th>Last Activity_Page Visited on Website</th>\n",
       "      <th>Last Activity_SMS Sent</th>\n",
       "      <th>Specialization_Finance Management</th>\n",
       "    </tr>\n",
       "    <tr>\n",
       "      <th>Lead Number</th>\n",
       "      <th></th>\n",
       "      <th></th>\n",
       "      <th></th>\n",
       "      <th></th>\n",
       "      <th></th>\n",
       "      <th></th>\n",
       "      <th></th>\n",
       "      <th></th>\n",
       "      <th></th>\n",
       "      <th></th>\n",
       "      <th></th>\n",
       "      <th></th>\n",
       "    </tr>\n",
       "  </thead>\n",
       "  <tbody>\n",
       "    <tr>\n",
       "      <th>639211</th>\n",
       "      <td>1.0</td>\n",
       "      <td>-0.886868</td>\n",
       "      <td>0</td>\n",
       "      <td>0</td>\n",
       "      <td>0</td>\n",
       "      <td>0</td>\n",
       "      <td>0</td>\n",
       "      <td>0</td>\n",
       "      <td>0</td>\n",
       "      <td>0</td>\n",
       "      <td>0</td>\n",
       "      <td>0</td>\n",
       "    </tr>\n",
       "    <tr>\n",
       "      <th>590711</th>\n",
       "      <td>1.0</td>\n",
       "      <td>1.875759</td>\n",
       "      <td>0</td>\n",
       "      <td>1</td>\n",
       "      <td>0</td>\n",
       "      <td>0</td>\n",
       "      <td>0</td>\n",
       "      <td>0</td>\n",
       "      <td>0</td>\n",
       "      <td>0</td>\n",
       "      <td>1</td>\n",
       "      <td>0</td>\n",
       "    </tr>\n",
       "    <tr>\n",
       "      <th>644174</th>\n",
       "      <td>1.0</td>\n",
       "      <td>0.995321</td>\n",
       "      <td>0</td>\n",
       "      <td>1</td>\n",
       "      <td>0</td>\n",
       "      <td>0</td>\n",
       "      <td>0</td>\n",
       "      <td>0</td>\n",
       "      <td>0</td>\n",
       "      <td>0</td>\n",
       "      <td>0</td>\n",
       "      <td>0</td>\n",
       "    </tr>\n",
       "    <tr>\n",
       "      <th>641392</th>\n",
       "      <td>1.0</td>\n",
       "      <td>-0.544986</td>\n",
       "      <td>0</td>\n",
       "      <td>1</td>\n",
       "      <td>0</td>\n",
       "      <td>0</td>\n",
       "      <td>0</td>\n",
       "      <td>0</td>\n",
       "      <td>0</td>\n",
       "      <td>0</td>\n",
       "      <td>1</td>\n",
       "      <td>1</td>\n",
       "    </tr>\n",
       "    <tr>\n",
       "      <th>587955</th>\n",
       "      <td>1.0</td>\n",
       "      <td>2.283811</td>\n",
       "      <td>1</td>\n",
       "      <td>0</td>\n",
       "      <td>0</td>\n",
       "      <td>0</td>\n",
       "      <td>0</td>\n",
       "      <td>0</td>\n",
       "      <td>0</td>\n",
       "      <td>0</td>\n",
       "      <td>0</td>\n",
       "      <td>1</td>\n",
       "    </tr>\n",
       "    <tr>\n",
       "      <th>...</th>\n",
       "      <td>...</td>\n",
       "      <td>...</td>\n",
       "      <td>...</td>\n",
       "      <td>...</td>\n",
       "      <td>...</td>\n",
       "      <td>...</td>\n",
       "      <td>...</td>\n",
       "      <td>...</td>\n",
       "      <td>...</td>\n",
       "      <td>...</td>\n",
       "      <td>...</td>\n",
       "      <td>...</td>\n",
       "    </tr>\n",
       "    <tr>\n",
       "      <th>635799</th>\n",
       "      <td>1.0</td>\n",
       "      <td>-0.392426</td>\n",
       "      <td>0</td>\n",
       "      <td>1</td>\n",
       "      <td>0</td>\n",
       "      <td>0</td>\n",
       "      <td>0</td>\n",
       "      <td>0</td>\n",
       "      <td>0</td>\n",
       "      <td>0</td>\n",
       "      <td>0</td>\n",
       "      <td>0</td>\n",
       "    </tr>\n",
       "    <tr>\n",
       "      <th>613541</th>\n",
       "      <td>1.0</td>\n",
       "      <td>-0.168181</td>\n",
       "      <td>0</td>\n",
       "      <td>1</td>\n",
       "      <td>0</td>\n",
       "      <td>0</td>\n",
       "      <td>0</td>\n",
       "      <td>0</td>\n",
       "      <td>0</td>\n",
       "      <td>1</td>\n",
       "      <td>0</td>\n",
       "      <td>0</td>\n",
       "    </tr>\n",
       "    <tr>\n",
       "      <th>589735</th>\n",
       "      <td>1.0</td>\n",
       "      <td>-0.886868</td>\n",
       "      <td>1</td>\n",
       "      <td>0</td>\n",
       "      <td>0</td>\n",
       "      <td>1</td>\n",
       "      <td>0</td>\n",
       "      <td>0</td>\n",
       "      <td>0</td>\n",
       "      <td>0</td>\n",
       "      <td>0</td>\n",
       "      <td>0</td>\n",
       "    </tr>\n",
       "    <tr>\n",
       "      <th>631053</th>\n",
       "      <td>1.0</td>\n",
       "      <td>-0.862973</td>\n",
       "      <td>1</td>\n",
       "      <td>0</td>\n",
       "      <td>0</td>\n",
       "      <td>0</td>\n",
       "      <td>0</td>\n",
       "      <td>0</td>\n",
       "      <td>0</td>\n",
       "      <td>0</td>\n",
       "      <td>0</td>\n",
       "      <td>1</td>\n",
       "    </tr>\n",
       "    <tr>\n",
       "      <th>590924</th>\n",
       "      <td>1.0</td>\n",
       "      <td>-0.886868</td>\n",
       "      <td>1</td>\n",
       "      <td>0</td>\n",
       "      <td>0</td>\n",
       "      <td>1</td>\n",
       "      <td>0</td>\n",
       "      <td>0</td>\n",
       "      <td>0</td>\n",
       "      <td>0</td>\n",
       "      <td>0</td>\n",
       "      <td>1</td>\n",
       "    </tr>\n",
       "  </tbody>\n",
       "</table>\n",
       "<p>2772 rows × 12 columns</p>\n",
       "</div>"
      ],
      "text/plain": [
       "             const  Total Time Spent on Website  Lead Origin_API  \\\n",
       "Lead Number                                                        \n",
       "639211         1.0                    -0.886868                0   \n",
       "590711         1.0                     1.875759                0   \n",
       "644174         1.0                     0.995321                0   \n",
       "641392         1.0                    -0.544986                0   \n",
       "587955         1.0                     2.283811                1   \n",
       "...            ...                          ...              ...   \n",
       "635799         1.0                    -0.392426                0   \n",
       "613541         1.0                    -0.168181                0   \n",
       "589735         1.0                    -0.886868                1   \n",
       "631053         1.0                    -0.862973                1   \n",
       "590924         1.0                    -0.886868                1   \n",
       "\n",
       "             Lead Origin_Landing Page Submission  Lead Origin_Lead Import  \\\n",
       "Lead Number                                                                 \n",
       "639211                                         0                        0   \n",
       "590711                                         1                        0   \n",
       "644174                                         1                        0   \n",
       "641392                                         1                        0   \n",
       "587955                                         0                        0   \n",
       "...                                          ...                      ...   \n",
       "635799                                         1                        0   \n",
       "613541                                         1                        0   \n",
       "589735                                         0                        0   \n",
       "631053                                         0                        0   \n",
       "590924                                         0                        0   \n",
       "\n",
       "             Lead Source_Olark Chat  Last Activity_Converted to Lead  \\\n",
       "Lead Number                                                            \n",
       "639211                            0                                0   \n",
       "590711                            0                                0   \n",
       "644174                            0                                0   \n",
       "641392                            0                                0   \n",
       "587955                            0                                0   \n",
       "...                             ...                              ...   \n",
       "635799                            0                                0   \n",
       "613541                            0                                0   \n",
       "589735                            1                                0   \n",
       "631053                            0                                0   \n",
       "590924                            1                                0   \n",
       "\n",
       "             Last Activity_Email Bounced  \\\n",
       "Lead Number                                \n",
       "639211                                 0   \n",
       "590711                                 0   \n",
       "644174                                 0   \n",
       "641392                                 0   \n",
       "587955                                 0   \n",
       "...                                  ...   \n",
       "635799                                 0   \n",
       "613541                                 0   \n",
       "589735                                 0   \n",
       "631053                                 0   \n",
       "590924                                 0   \n",
       "\n",
       "             Last Activity_Olark Chat Conversation  \\\n",
       "Lead Number                                          \n",
       "639211                                           0   \n",
       "590711                                           0   \n",
       "644174                                           0   \n",
       "641392                                           0   \n",
       "587955                                           0   \n",
       "...                                            ...   \n",
       "635799                                           0   \n",
       "613541                                           0   \n",
       "589735                                           0   \n",
       "631053                                           0   \n",
       "590924                                           0   \n",
       "\n",
       "             Last Activity_Page Visited on Website  Last Activity_SMS Sent  \\\n",
       "Lead Number                                                                  \n",
       "639211                                           0                       0   \n",
       "590711                                           0                       1   \n",
       "644174                                           0                       0   \n",
       "641392                                           0                       1   \n",
       "587955                                           0                       0   \n",
       "...                                            ...                     ...   \n",
       "635799                                           0                       0   \n",
       "613541                                           1                       0   \n",
       "589735                                           0                       0   \n",
       "631053                                           0                       0   \n",
       "590924                                           0                       0   \n",
       "\n",
       "             Specialization_Finance Management  \n",
       "Lead Number                                     \n",
       "639211                                       0  \n",
       "590711                                       0  \n",
       "644174                                       0  \n",
       "641392                                       1  \n",
       "587955                                       1  \n",
       "...                                        ...  \n",
       "635799                                       0  \n",
       "613541                                       0  \n",
       "589735                                       0  \n",
       "631053                                       1  \n",
       "590924                                       1  \n",
       "\n",
       "[2772 rows x 12 columns]"
      ]
     },
     "execution_count": 88,
     "metadata": {},
     "output_type": "execute_result"
    }
   ],
   "source": [
    "# Add a constant to X_test\n",
    "X_test_sm = sm.add_constant(X_test)\n",
    "X_test_sm"
   ]
  },
  {
   "cell_type": "code",
   "execution_count": 89,
   "metadata": {
    "ExecuteTime": {
     "end_time": "2022-10-17T08:10:56.313203Z",
     "start_time": "2022-10-17T08:10:56.298243Z"
    },
    "colab": {
     "base_uri": "https://localhost:8080/",
     "height": 206
    },
    "id": "uRMnva9_HCLm",
    "outputId": "446f566e-7e42-412f-f377-f91b79278b29"
   },
   "outputs": [
    {
     "data": {
      "text/html": [
       "<div>\n",
       "<style scoped>\n",
       "    .dataframe tbody tr th:only-of-type {\n",
       "        vertical-align: middle;\n",
       "    }\n",
       "\n",
       "    .dataframe tbody tr th {\n",
       "        vertical-align: top;\n",
       "    }\n",
       "\n",
       "    .dataframe thead th {\n",
       "        text-align: right;\n",
       "    }\n",
       "</style>\n",
       "<table border=\"1\" class=\"dataframe\">\n",
       "  <thead>\n",
       "    <tr style=\"text-align: right;\">\n",
       "      <th></th>\n",
       "      <th>Converted</th>\n",
       "      <th>Conversion_Prob</th>\n",
       "    </tr>\n",
       "  </thead>\n",
       "  <tbody>\n",
       "    <tr>\n",
       "      <th>0</th>\n",
       "      <td>1</td>\n",
       "      <td>0.895667</td>\n",
       "    </tr>\n",
       "    <tr>\n",
       "      <th>1</th>\n",
       "      <td>1</td>\n",
       "      <td>0.887714</td>\n",
       "    </tr>\n",
       "    <tr>\n",
       "      <th>2</th>\n",
       "      <td>1</td>\n",
       "      <td>0.496276</td>\n",
       "    </tr>\n",
       "    <tr>\n",
       "      <th>3</th>\n",
       "      <td>0</td>\n",
       "      <td>0.251752</td>\n",
       "    </tr>\n",
       "    <tr>\n",
       "      <th>4</th>\n",
       "      <td>1</td>\n",
       "      <td>0.804796</td>\n",
       "    </tr>\n",
       "  </tbody>\n",
       "</table>\n",
       "</div>"
      ],
      "text/plain": [
       "   Converted  Conversion_Prob\n",
       "0          1         0.895667\n",
       "1          1         0.887714\n",
       "2          1         0.496276\n",
       "3          0         0.251752\n",
       "4          1         0.804796"
      ]
     },
     "execution_count": 89,
     "metadata": {},
     "output_type": "execute_result"
    }
   ],
   "source": [
    "# Storing prediction of test set in the variable 'y_test_pred'\n",
    "y_test_pred = res.predict(X_test_sm)\n",
    "# Coverting it to df\n",
    "y_pred_df = pd.DataFrame(y_test_pred)\n",
    "# Converting y_test to dataframe\n",
    "y_test_df = pd.DataFrame(y_test)\n",
    "# Remove index for both dataframes to append them side by side \n",
    "y_pred_df.reset_index(drop=True, inplace=True)\n",
    "y_test_df.reset_index(drop=True, inplace=True)\n",
    "# Append y_test_df and y_pred_df\n",
    "y_pred_final = pd.concat([y_test_df, y_pred_df],axis=1)\n",
    "# Renaming column \n",
    "y_pred_final= y_pred_final.rename(columns = {0 : 'Conversion_Prob'})\n",
    "y_pred_final.head()"
   ]
  },
  {
   "cell_type": "code",
   "execution_count": 90,
   "metadata": {
    "ExecuteTime": {
     "end_time": "2022-10-17T08:10:56.345116Z",
     "start_time": "2022-10-17T08:10:56.317200Z"
    },
    "colab": {
     "base_uri": "https://localhost:8080/",
     "height": 423
    },
    "id": "XcNwOFjZHGf_",
    "outputId": "09358d63-7bb2-4fe2-db24-84d715d919c3"
   },
   "outputs": [
    {
     "data": {
      "text/html": [
       "<div>\n",
       "<style scoped>\n",
       "    .dataframe tbody tr th:only-of-type {\n",
       "        vertical-align: middle;\n",
       "    }\n",
       "\n",
       "    .dataframe tbody tr th {\n",
       "        vertical-align: top;\n",
       "    }\n",
       "\n",
       "    .dataframe thead th {\n",
       "        text-align: right;\n",
       "    }\n",
       "</style>\n",
       "<table border=\"1\" class=\"dataframe\">\n",
       "  <thead>\n",
       "    <tr style=\"text-align: right;\">\n",
       "      <th></th>\n",
       "      <th>Converted</th>\n",
       "      <th>Conversion_Prob</th>\n",
       "      <th>final_predicted</th>\n",
       "    </tr>\n",
       "  </thead>\n",
       "  <tbody>\n",
       "    <tr>\n",
       "      <th>0</th>\n",
       "      <td>1</td>\n",
       "      <td>0.895667</td>\n",
       "      <td>1</td>\n",
       "    </tr>\n",
       "    <tr>\n",
       "      <th>1</th>\n",
       "      <td>1</td>\n",
       "      <td>0.887714</td>\n",
       "      <td>1</td>\n",
       "    </tr>\n",
       "    <tr>\n",
       "      <th>2</th>\n",
       "      <td>1</td>\n",
       "      <td>0.496276</td>\n",
       "      <td>1</td>\n",
       "    </tr>\n",
       "    <tr>\n",
       "      <th>3</th>\n",
       "      <td>0</td>\n",
       "      <td>0.251752</td>\n",
       "      <td>0</td>\n",
       "    </tr>\n",
       "    <tr>\n",
       "      <th>4</th>\n",
       "      <td>1</td>\n",
       "      <td>0.804796</td>\n",
       "      <td>1</td>\n",
       "    </tr>\n",
       "    <tr>\n",
       "      <th>...</th>\n",
       "      <td>...</td>\n",
       "      <td>...</td>\n",
       "      <td>...</td>\n",
       "    </tr>\n",
       "    <tr>\n",
       "      <th>2767</th>\n",
       "      <td>0</td>\n",
       "      <td>0.174337</td>\n",
       "      <td>0</td>\n",
       "    </tr>\n",
       "    <tr>\n",
       "      <th>2768</th>\n",
       "      <td>1</td>\n",
       "      <td>0.129524</td>\n",
       "      <td>0</td>\n",
       "    </tr>\n",
       "    <tr>\n",
       "      <th>2769</th>\n",
       "      <td>1</td>\n",
       "      <td>0.346022</td>\n",
       "      <td>0</td>\n",
       "    </tr>\n",
       "    <tr>\n",
       "      <th>2770</th>\n",
       "      <td>0</td>\n",
       "      <td>0.111435</td>\n",
       "      <td>0</td>\n",
       "    </tr>\n",
       "    <tr>\n",
       "      <th>2771</th>\n",
       "      <td>0</td>\n",
       "      <td>0.248504</td>\n",
       "      <td>0</td>\n",
       "    </tr>\n",
       "  </tbody>\n",
       "</table>\n",
       "<p>2772 rows × 3 columns</p>\n",
       "</div>"
      ],
      "text/plain": [
       "      Converted  Conversion_Prob  final_predicted\n",
       "0             1         0.895667                1\n",
       "1             1         0.887714                1\n",
       "2             1         0.496276                1\n",
       "3             0         0.251752                0\n",
       "4             1         0.804796                1\n",
       "...         ...              ...              ...\n",
       "2767          0         0.174337                0\n",
       "2768          1         0.129524                0\n",
       "2769          1         0.346022                0\n",
       "2770          0         0.111435                0\n",
       "2771          0         0.248504                0\n",
       "\n",
       "[2772 rows x 3 columns]"
      ]
     },
     "execution_count": 90,
     "metadata": {},
     "output_type": "execute_result"
    }
   ],
   "source": [
    "# Making prediction using cut off 0.35\n",
    "y_pred_final['final_predicted'] = y_pred_final.Conversion_Prob.map(lambda x: 1 if x > 0.35 else 0)\n",
    "y_pred_final"
   ]
  },
  {
   "cell_type": "code",
   "execution_count": 91,
   "metadata": {
    "ExecuteTime": {
     "end_time": "2022-10-17T08:10:56.403959Z",
     "start_time": "2022-10-17T08:10:56.346113Z"
    },
    "colab": {
     "base_uri": "https://localhost:8080/"
    },
    "id": "vj2430RXHIsf",
    "outputId": "eac3fe1d-155b-4186-a852-0bf596709b95"
   },
   "outputs": [
    {
     "data": {
      "text/plain": [
       "0.7839105339105339"
      ]
     },
     "execution_count": 91,
     "metadata": {},
     "output_type": "execute_result"
    }
   ],
   "source": [
    "# Check the overall accuracy\n",
    "metrics.accuracy_score(y_pred_final['Converted'], y_pred_final.final_predicted)"
   ]
  },
  {
   "cell_type": "code",
   "execution_count": 92,
   "metadata": {
    "ExecuteTime": {
     "end_time": "2022-10-17T08:10:56.424903Z",
     "start_time": "2022-10-17T08:10:56.405954Z"
    },
    "colab": {
     "base_uri": "https://localhost:8080/"
    },
    "id": "tm1yjxmdHMqW",
    "outputId": "49494e42-5655-44d1-9105-11f7400a834b"
   },
   "outputs": [
    {
     "data": {
      "text/plain": [
       "array([[1319,  358],\n",
       "       [ 241,  854]], dtype=int64)"
      ]
     },
     "execution_count": 92,
     "metadata": {},
     "output_type": "execute_result"
    }
   ],
   "source": [
    "# Creating confusion matrix \n",
    "Confusion2 = metrics.confusion_matrix(y_pred_final['Converted'], y_pred_final.final_predicted )\n",
    "Confusion2"
   ]
  },
  {
   "cell_type": "code",
   "execution_count": 93,
   "metadata": {
    "ExecuteTime": {
     "end_time": "2022-10-17T08:10:56.440372Z",
     "start_time": "2022-10-17T08:10:56.426908Z"
    },
    "id": "08qNUb3UHQAW"
   },
   "outputs": [],
   "source": [
    "# Substituting the value of true positive\n",
    "TP = Confusion2[1,1]\n",
    "# Substituting the value of true negatives\n",
    "TN = Confusion2[0,0]\n",
    "# Substituting the value of false positives\n",
    "FP = Confusion2[0,1] \n",
    "# Substituting the value of false negatives\n",
    "FN = Confusion2[1,0]"
   ]
  },
  {
   "cell_type": "code",
   "execution_count": 94,
   "metadata": {
    "ExecuteTime": {
     "end_time": "2022-10-17T08:10:56.456329Z",
     "start_time": "2022-10-17T08:10:56.443364Z"
    },
    "colab": {
     "base_uri": "https://localhost:8080/"
    },
    "id": "40fI9kS6HRFv",
    "outputId": "21ff5909-a4af-464e-dec4-8891087dd1d9"
   },
   "outputs": [
    {
     "data": {
      "text/plain": [
       "0.7799086757990867"
      ]
     },
     "execution_count": 94,
     "metadata": {},
     "output_type": "execute_result"
    }
   ],
   "source": [
    "# Calculating the sensitivity\n",
    "TP/(TP+FN)"
   ]
  },
  {
   "cell_type": "code",
   "execution_count": 95,
   "metadata": {
    "ExecuteTime": {
     "end_time": "2022-10-17T08:10:56.472291Z",
     "start_time": "2022-10-17T08:10:56.459320Z"
    },
    "colab": {
     "base_uri": "https://localhost:8080/"
    },
    "id": "2_kHPS14HTLW",
    "outputId": "fb300f24-3a0f-4f82-ec60-f653bef64c1a"
   },
   "outputs": [
    {
     "data": {
      "text/plain": [
       "0.7865235539654144"
      ]
     },
     "execution_count": 95,
     "metadata": {},
     "output_type": "execute_result"
    }
   ],
   "source": [
    "# Calculating the specificity\n",
    "TN/(TN+FP)"
   ]
  },
  {
   "cell_type": "markdown",
   "metadata": {
    "id": "57Swr4KaI6DD"
   },
   "source": [
    "We have a fair score of accuracy,sensitivity and specificity which is 78%,77% and 78%\n"
   ]
  },
  {
   "cell_type": "markdown",
   "metadata": {
    "id": "HfWJvAH9JK0T"
   },
   "source": [
    "### Conclusion\n",
    "\n",
    "Below are the points via which we can a get a understanding between a hot lead and a cold lead\n",
    "\n",
    "1. The total time spend on the Website.\n",
    "\n",
    "2. Total number of visits.\n",
    "\n",
    "3. When the lead source was from the below sites:\n",
    "  a. Google\n",
    "\n",
    "  b. Direct traffic\n",
    "\n",
    "  c. Organic search\n",
    "\n",
    "  d. Welingak website\n",
    "\n",
    "4. When the lead origin is Lead add format\n",
    "\n",
    "5. When their current occupation is as a working professional."
   ]
  }
 ],
 "metadata": {
  "colab": {
   "collapsed_sections": [],
   "provenance": []
  },
  "kernelspec": {
   "display_name": "Python 3 (ipykernel)",
   "language": "python",
   "name": "python3"
  },
  "language_info": {
   "codemirror_mode": {
    "name": "ipython",
    "version": 3
   },
   "file_extension": ".py",
   "mimetype": "text/x-python",
   "name": "python",
   "nbconvert_exporter": "python",
   "pygments_lexer": "ipython3",
   "version": "3.9.7"
  },
  "varInspector": {
   "cols": {
    "lenName": 16,
    "lenType": 16,
    "lenVar": 40
   },
   "kernels_config": {
    "python": {
     "delete_cmd_postfix": "",
     "delete_cmd_prefix": "del ",
     "library": "var_list.py",
     "varRefreshCmd": "print(var_dic_list())"
    },
    "r": {
     "delete_cmd_postfix": ") ",
     "delete_cmd_prefix": "rm(",
     "library": "var_list.r",
     "varRefreshCmd": "cat(var_dic_list()) "
    }
   },
   "types_to_exclude": [
    "module",
    "function",
    "builtin_function_or_method",
    "instance",
    "_Feature"
   ],
   "window_display": false
  }
 },
 "nbformat": 4,
 "nbformat_minor": 1
}
